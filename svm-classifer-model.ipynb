{
 "cells": [
  {
   "cell_type": "markdown",
   "metadata": {},
   "source": [
    "Before loading the images, i must check the dataset for any class imbalances to identify if certain classes are underrepresented or not. If they are, then the model might predict towards more frequently seen classes which would lead to lower accuracy. I will count the number of images in each directory and then visualize this information on a graph."
   ]
  },
  {
   "cell_type": "code",
   "execution_count": 8,
   "metadata": {},
   "outputs": [
    {
     "data": {
      "image/png": "[encoded data removed]",
      "text/plain": [
       "<Figure size 800x500 with 1 Axes>"
      ]
     },
     "metadata": {},
     "output_type": "display_data"
    }
   ],
   "source": [
    "import os\n",
    "\n",
    "from matplotlib import pyplot as plt\n",
    "\n",
    "data_path = 'data/traffic_Data/DATA' \n",
    "\n",
    "# Dictionary storing classes and the amount of images in each class\n",
    "class_image_counts = {}\n",
    "for class_id in range(58):\n",
    "    directory = os.path.join(data_path, str(class_id))\n",
    "    class_image_counts[class_id] = len(os.listdir(directory))\n",
    "    \n",
    "# Plotting the data for each class\n",
    "plt.figure(figsize=(8, 5))\n",
    "plt.bar(class_image_counts.keys(), class_image_counts.values())\n",
    "plt.xlabel('Class ID')\n",
    "plt.ylabel('Number of Images')\n",
    "plt.title('Number of Images Within Each Class in Traffic Sign Dataset')\n",
    "plt.show()"
   ]
  },
  {
   "cell_type": "markdown",
   "metadata": {},
   "source": [
    "As seen above, the classes have a very uneven distribution, which is will have a negative effect on the output and results of the model. To try and mitigate the problem, I have firstly set the class weights hyperparameter to be \"balanced\" within the SVM classifier model, which will make it pay more attention to underrepresented classes by treating their misclassifications as more significant than other classes."
   ]
  },
  {
   "cell_type": "markdown",
   "metadata": {},
   "source": [
    "Before loading in the images, I want to verify that each image (in both the test set and data set) is a valid input to the SVM classifier model and is readable.\n",
    "I will use Pillow (PIL) to handle the images."
   ]
  },
  {
   "cell_type": "code",
   "execution_count": 9,
   "metadata": {},
   "outputs": [
    {
     "name": "stdout",
     "output_type": "stream",
     "text": [
      "All images successfully verified.\n"
     ]
    }
   ],
   "source": [
    "import os\n",
    "from PIL import Image\n",
    "\n",
    "test_path = 'data/traffic_Data/TEST'\n",
    "labels_path = 'data/labels.csv'\n",
    "\n",
    "# Verifying the images in the DATA set\n",
    "\n",
    "valid_images = []\n",
    "for class_id in range(58):\n",
    "    directory = os.path.join(data_path, str(class_id))\n",
    "    if os.path.exists(directory):\n",
    "        for img_file in os.listdir(directory):\n",
    "            try:\n",
    "                image = Image.open(os.path.join(directory, img_file))\n",
    "                image.verify()\n",
    "                valid_images.append(os.path.join(directory, img_file))\n",
    "            except Exception as e:\n",
    "                print(f\"Image not valid: {img_file}, Error: {e}\")\n",
    "\n",
    "# Verifying the images in the TEST set\n",
    "\n",
    "valid_images = []\n",
    "for class_id in range(58):\n",
    "    directory = os.path.join(test_path, str(class_id))\n",
    "    if os.path.exists(directory):\n",
    "        for img_file in os.listdir(directory):\n",
    "            try:\n",
    "                image = Image.open(os.path.join(directory, img_file))\n",
    "                image.verify()\n",
    "                valid_images.append(os.path.join(directory, img_file))\n",
    "            except Exception as e:\n",
    "                print(f\"Image not valid: {img_file}, Error: {e}\")\n",
    "\n",
    "print(\"All images successfully verified.\")\n",
    "                "
   ]
  },
  {
   "cell_type": "markdown",
   "metadata": {},
   "source": [
    "The images must be loaded from the directories, and then pre-processed so they can be fed into the SVM classifier.\n",
    "I will pre-process each image and load it in with it's corresponding ClassId.\n",
    "The labels for the dataset are loaded in as a dataframe from the csv file.\n",
    "\n",
    "I have chosen to combine the DATA and TEST sets and do the pre-processing steps together for both, as I found that there were issues with the model generalizing to the TEST file after training on the DATA file.\n",
    "\n",
    "I have also chosen to resize each image to 32x32 and turn it into greyscale to process less features, this reduces memory usage and speeds up training (and still leaves enough features for the model to effectivley distinguish classes). The images are flattened aswell as the SVM model expects a 2D array as input."
   ]
  },
  {
   "cell_type": "code",
   "execution_count": 10,
   "metadata": {},
   "outputs": [
    {
     "name": "stdout",
     "output_type": "stream",
     "text": [
      "Total images loaded: 6164\n",
      "Shape of X: (6164, 1024)\n",
      "Shape of y: (6164,)\n"
     ]
    }
   ],
   "source": [
    "import os\n",
    "import cv2\n",
    "import numpy as np\n",
    "import pandas as pd\n",
    "\n",
    "images = []\n",
    "class_ids = []\n",
    "labels = pd.read_csv(labels_path)\n",
    "\n",
    "for class_id in range(58):\n",
    "    data_directory = os.path.join(data_path, str(class_id))\n",
    "    test_directory = os.path.join(test_path, str(class_id))\n",
    "    \n",
    "    if os.path.exists(data_directory):\n",
    "        for img_file in os.listdir(data_directory):\n",
    "                img_path = os.path.join(data_directory, img_file)\n",
    "                image = cv2.imread(img_path)\n",
    "                image = cv2.resize(image, (32, 32)) # Resize\n",
    "                image = cv2.cvtColor(image, cv2.COLOR_BGR2GRAY) # Greyscale\n",
    "                image = image.flatten() # Flatten\n",
    "                images.append(image)\n",
    "                class_ids.append(class_id)\n",
    "    \n",
    "    if os.path.exists(test_directory):\n",
    "        for img_file in os.listdir(test_directory):\n",
    "            img_path = os.path.join(test_directory, img_file)\n",
    "            image = cv2.imread(img_path)\n",
    "            image = cv2.resize(image, (32, 32)) # Resize\n",
    "            image = cv2.cvtColor(image, cv2.COLOR_BGR2GRAY) # Greyscale\n",
    "            image = image.flatten() # Flatten\n",
    "            images.append(image)\n",
    "            class_ids.append(class_id)\n",
    "    \n",
    "# Define X (input data) and y (target data) as numpy arrays\n",
    "X = np.array(images) / 255.0\n",
    "y = np.array(class_ids)\n",
    "\n",
    "print(f\"Total images loaded: {len(images)}\")\n",
    "print(f\"Shape of X: {X.shape}\")\n",
    "print(f\"Shape of y: {y.shape}\")"
   ]
  },
  {
   "cell_type": "markdown",
   "metadata": {},
   "source": [
    "Next, before splitting the data I will carry out 2 more steps.\n",
    "Firstly, we standardize (scale) the features so the transformation is applied uniformly across the whole dataset. If this was done after splitting, then there is a risk of different scaling parameters (e.g mean and variance) across the training and testing sets.\n",
    "Secondly, we apply Principle Component Analysis (PCA) to extract the most meaningful features by keeping the principle components that capture the most variance. This makes the SVM model even faster to train and more computationally efficient without a significant loss in accuracy.\n",
    "\n",
    "I have used the method outlined in the PCA tutorial to plot cumulative variance against the number of components, to visualise and determine the minimum amount of principle components to use.\n",
    "It seems like 250 components capture around 95% of the variance, which is sufficient."
   ]
  },
  {
   "cell_type": "code",
   "execution_count": 11,
   "metadata": {},
   "outputs": [
    {
     "data": {
      "image/png": "[encoded data removed]",
      "text/plain": [
       "<Figure size 640x480 with 1 Axes>"
      ]
     },
     "metadata": {},
     "output_type": "display_data"
    }
   ],
   "source": [
    "from matplotlib import pyplot as plt\n",
    "from sklearn.decomposition import PCA\n",
    "from sklearn.discriminant_analysis import StandardScaler\n",
    "\n",
    "scaler = StandardScaler()\n",
    "X_scaled = scaler.fit_transform(X)\n",
    "\n",
    "pca_test = PCA().fit(X_scaled)\n",
    "plt.plot(np.cumsum(pca_test.explained_variance_ratio_))\n",
    "plt.xlabel('Number of components')\n",
    "plt.ylabel('Cumulative explained variance')\n",
    "\n",
    "pca = PCA(n_components=250)\n",
    "X_pca = pca.fit_transform(X_scaled)"
   ]
  },
  {
   "cell_type": "markdown",
   "metadata": {},
   "source": [
    "Now the input is ready, the dataset can be split into training, validation and test sets. \n",
    "The validation set will be used for tuning the model, and the test set will be used to predict.\n",
    "I firstly partitioned the dataset into \"training\" and \"temp\", and then split the \"temp\" into \"val\" and \"test\" sets.\n",
    "\n",
    "Then we fit the SVM classifier model with the data and define kernel type, along with the C value.\n",
    "The kernal type specifies the type of function used to transform the input data to a higher dimensional space.\n",
    "The C value controls the trade-off between maximizing the margin and minimizing the classification error.\n",
    "- High C value = model will aim to classify as many points correctly as possible, penalizing misclassifications heavily (risk of overfitting)\n",
    "- Low C value = model allows more misclassifications to maintain a larger margin (focusing more on general patterns, risk of underfitting)\n",
    "\n",
    "Then we can meassure the model accuracy both on the training and validation sets."
   ]
  },
  {
   "cell_type": "code",
   "execution_count": 12,
   "metadata": {},
   "outputs": [
    {
     "name": "stdout",
     "output_type": "stream",
     "text": [
      "Shape of X_train: (4314, 250)\n",
      "Shape of X_val: (925, 250)\n",
      "Shape of X_test: (925, 250)\n",
      "Training Accuracy: 0.999\n",
      "Validation Accuracy: 0.945\n"
     ]
    }
   ],
   "source": [
    "from sklearn.model_selection import train_test_split\n",
    "from sklearn.svm import SVC\n",
    "\n",
    "X_train, X_temp, y_train, y_temp = train_test_split(X_pca, y, test_size=0.3, random_state=42)\n",
    "X_val, X_test, y_val, y_test = train_test_split(X_temp, y_temp, test_size=0.5, random_state=42)\n",
    "\n",
    "print(f\"Shape of X_train: {X_train.shape}\")\n",
    "print(f\"Shape of X_val: {X_val.shape}\")\n",
    "print(f\"Shape of X_test: {X_test.shape}\")\n",
    "\n",
    "svc = SVC(class_weight=\"balanced\", kernel=\"linear\", C=0.1)\n",
    "svc.fit(X_train, y_train)\n",
    "\n",
    "train_acc = svc.score(X_train, y_train)\n",
    "val_acc = svc.score(X_val, y_val)\n",
    "print(f\"Training Accuracy: {train_acc:.3g}\")\n",
    "print(f\"Validation Accuracy: {val_acc:.3g}\")"
   ]
  },
  {
   "cell_type": "markdown",
   "metadata": {},
   "source": [
    "Then we can test the model on the partitioned testing set to see how well the results are generalized to new data."
   ]
  },
  {
   "cell_type": "code",
   "execution_count": 13,
   "metadata": {},
   "outputs": [
    {
     "name": "stdout",
     "output_type": "stream",
     "text": [
      "Test Accuracy: 0.94\n"
     ]
    }
   ],
   "source": [
    "\n",
    "import os\n",
    "from sklearn.metrics import accuracy_score\n",
    "\n",
    "y_pred = svc.predict(X_test)\n",
    "test_accuracy = accuracy_score(y_test, y_pred)\n",
    "print(f\"Test Accuracy: {test_accuracy:.2f}\")"
   ]
  },
  {
   "cell_type": "markdown",
   "metadata": {},
   "source": [
    "The model achieves an accuracy of 94%, which means it generalizes very well to new data and can be used to classify different traffic signs from the dataset."
   ]
  }
 ],
 "metadata": {
  "kernelspec": {
   "display_name": "Python 3",
   "language": "python",
   "name": "python3"
  },
  "language_info": {
   "codemirror_mode": {
    "name": "ipython",
    "version": 3
   },
   "file_extension": ".py",
   "mimetype": "text/x-python",
   "name": "python",
   "nbconvert_exporter": "python",
   "pygments_lexer": "ipython3",
   "version": "3.10.1"
  }
 },
 "nbformat": 4,
 "nbformat_minor": 4
}
