{
 "cells": [
  {
   "cell_type": "markdown",
   "metadata": {},
   "source": [
    "CNN - TRAFFIC SIGNS"
   ]
  },
  {
   "cell_type": "markdown",
   "metadata": {},
   "source": [
    "This project aims to classify traffic signs using a convolutional neural network (CNN). The dataset contains labelled images of traffic signs, each corresponding to a specific class. Labels are loaded from a CSV file, which maps image identifiers to their class names, ensuring easy association between the images and their respective categories."
   ]
  },
  {
   "cell_type": "code",
   "execution_count": 3,
   "metadata": {},
   "outputs": [
    {
     "name": "stdout",
     "output_type": "stream",
     "text": [
      "    ClassId                          Name\n",
      "0         0           Speed limit (5km/h)\n",
      "1         1          Speed limit (15km/h)\n",
      "2         2          Speed limit (30km/h)\n",
      "3         3          Speed limit (40km/h)\n",
      "4         4          Speed limit (50km/h)\n",
      "5         5          Speed limit (60km/h)\n",
      "6         6          Speed limit (70km/h)\n",
      "7         7          speed limit (80km/h)\n",
      "8         8      Dont Go straight or left\n",
      "9         9     Dont Go straight or Right\n",
      "10       10              Dont Go straight\n",
      "11       11                  Dont Go Left\n",
      "12       12         Dont Go Left or Right\n",
      "13       13                 Dont Go Right\n",
      "14       14       Dont overtake from Left\n",
      "15       15                      No Uturn\n",
      "16       16                        No Car\n",
      "17       17                       No horn\n",
      "18       18          Speed limit (40km/h)\n",
      "19       19          Speed limit (50km/h)\n",
      "20       20          Go straight or right\n",
      "21       21                   Go straight\n",
      "22       22                       Go Left\n",
      "23       23              Go Left or right\n",
      "24       24                      Go Right\n",
      "25       25                     keep Left\n",
      "26       26                    keep Right\n",
      "27       27          Roundabout mandatory\n",
      "28       28            watch out for cars\n",
      "29       29                          Horn\n",
      "30       30             Bicycles crossing\n",
      "31       31                         Uturn\n",
      "32       32                  Road Divider\n",
      "33       33               Traffic signals\n",
      "34       34                  Danger Ahead\n",
      "35       35                Zebra Crossing\n",
      "36       36             Bicycles crossing\n",
      "37       37             Children crossing\n",
      "38       38   Dangerous curve to the left\n",
      "39       39  Dangerous curve to the right\n",
      "40       40                      Unknown1\n",
      "41       41                      Unknown2\n",
      "42       42                      Unknown3\n",
      "43       43          Go right or straight\n",
      "44       44           Go left or straight\n",
      "45       45                      Unknown4\n",
      "46       46                  ZigZag Curve\n",
      "47       47                Train Crossing\n",
      "48       48            Under Construction\n",
      "49       49                      Unknown5\n",
      "50       50                        Fences\n",
      "51       51       Heavy Vehicle Accidents\n",
      "52       52                      Unknown6\n",
      "53       53                      Give Way\n",
      "54       54                   No stopping\n",
      "55       55                      No entry\n",
      "56       56                      Unknown7\n",
      "57       57                      Unknown8\n"
     ]
    },
    {
     "name": "stderr",
     "output_type": "stream",
     "text": [
      "/var/folders/ww/wx0kw6d17ml1bkwwfxpdjs0c0000gn/T/ipykernel_23944/1860504946.py:2: DeprecationWarning: \n",
      "Pyarrow will become a required dependency of pandas in the next major release of pandas (pandas 3.0),\n",
      "(to allow more performant data types, such as the Arrow string type, and better interoperability with other libraries)\n",
      "but was not found to be installed on your system.\n",
      "If this would cause problems for you,\n",
      "please provide us feedback at https://github.com/pandas-dev/pandas/issues/54466\n",
      "        \n",
      "  import pandas as pd\n"
     ]
    }
   ],
   "source": [
    "import os\n",
    "import pandas as pd \n",
    "\n",
    "file_path = \"/Users/ibhaankudalkar/Downloads/archive/labels.csv\"\n",
    "\n",
    "filename_read = os.path.join(file_path, \"/Users/ibhaankudalkar/Downloads/archive/labels.csv\")\n",
    "df = pd.read_csv(filename_read)\n",
    "print(df)"
   ]
  },
  {
   "cell_type": "markdown",
   "metadata": {},
   "source": [
    "After importing the pytorch libraries, I proceed with the preprocessing of images by resizing it to 32X32 pixels for uniformity across the dataset. Then I transform each image to a tensor and normalize it from scale -1 to 1 which drastically improves the training by ensuring the input data has mean of 0 and a standard deviation of 1.\n",
    "\n",
    "I load the DATA image dataset with each folder representing a class and the name as a label and I preprocess it for loading.\n",
    "\n",
    "the dataset is then split into training-validation-test sets using random as it preserves the dataset sizes. The training set is split 70% of the data (optimizing the model’s weights). The validation set is split 15% (model\"s performance during traing). The test set is split 15% (tunes model’s generalization ability).\n",
    "For maximum efficiency of memory usage I have set the batch size to 32 while loading the sets.\n",
    "\n",
    "For better understanding of the image dataset I plot it on first 3 images with their class labels. The class labels are displayed as titles to provide context for each image which makes the  visualization step check the correctness of the data loading and transformation process.\n",
    "\n",
    "The visualization of images prepares for the training process.\n",
    "\n"
   ]
  },
  {
   "cell_type": "code",
   "execution_count": 4,
   "metadata": {},
   "outputs": [
    {
     "name": "stdout",
     "output_type": "stream",
     "text": [
      "Number of classes: 58\n",
      "Train size: 2919\n",
      "Validation size: 625\n",
      "Test size: 626\n",
      "4170\n"
     ]
    },
    {
     "name": "stderr",
     "output_type": "stream",
     "text": [
      "Clipping input data to the valid range for imshow with RGB data ([0..1] for floats or [0..255] for integers). Got range [-0.94509804..0.52156866].\n",
      "Clipping input data to the valid range for imshow with RGB data ([0..1] for floats or [0..255] for integers). Got range [-0.9607843..0.41960788].\n",
      "Clipping input data to the valid range for imshow with RGB data ([0..1] for floats or [0..255] for integers). Got range [-0.8901961..0.54509807].\n"
     ]
    },
    {
     "data": {
      "image/png": "[encoded data removed]",
      "text/plain": [
       "<Figure size 1000x400 with 3 Axes>"
      ]
     },
     "metadata": {},
     "output_type": "display_data"
    }
   ],
   "source": [
    "# CNN Implementation in pytorch \n",
    "\n",
    "import torch\n",
    "import torch.nn as nn\n",
    "import torch.nn.functional as F  \n",
    "import torch.optim \n",
    "import torch.optim as optim\n",
    "from torch.utils.data import DataLoader, random_split\n",
    "from torchvision import datasets, transforms\n",
    "from sklearn.model_selection import train_test_split\n",
    "import matplotlib.pyplot as plt\n",
    "\n",
    "\n",
    "# transformation \n",
    "transform = transforms.Compose([\n",
    "    transforms.Resize((32, 32)),\n",
    "    transforms.ToTensor(),\n",
    "    transforms.Normalize((0.5, 0.5, 0.5), (0.5, 0.5, 0.5)),\n",
    "])\n",
    "\n",
    "dataset = datasets.ImageFolder(root='/Users/ibhaankudalkar/Downloads/archive/traffic_Data/DATA', transform=transform)\n",
    "num_classes = len(dataset.classes)\n",
    "print(f\"Number of classes: {num_classes}\")\n",
    "\n",
    "# train test split\n",
    "train_size = int(0.7 * len(dataset)) # 70\n",
    "val_size = int(0.15 * len(dataset)) # 15\n",
    "test_size = len(dataset) - train_size - val_size # 15\n",
    "train_dataset, val_dataset, test_dataset = random_split(dataset, [train_size, val_size, test_size])\n",
    "print(\"Train size:\", train_size)\n",
    "print(\"Validation size:\", val_size)\n",
    "print(\"Test size:\", test_size)\n",
    "print(train_size + val_size + test_size)\n",
    "\n",
    "train_loader = DataLoader(train_dataset, batch_size=32, shuffle=True)\n",
    "val_loader = DataLoader(val_dataset, batch_size=32, shuffle=False)\n",
    "test_loader = DataLoader(test_dataset, batch_size=32, shuffle=False)\n",
    "\n",
    "# Sample of images \n",
    "def samples(images, labels, class_names):\n",
    "    plt.figure(figsize=(10, 4))\n",
    "    for i in range(len(images)):  \n",
    "        plt.subplot(1, len(images), i + 1)\n",
    "        plt.imshow(images[i].permute(1, 2, 0).numpy())  \n",
    "        plt.title(f\"Class: {class_names[labels[i]]}\")\n",
    "        plt.axis('off')\n",
    "    plt.show()\n",
    "\n",
    "# batch of data\n",
    "data_iter = iter(train_loader)\n",
    "images, labels = next(data_iter)\n",
    "\n",
    "# first 3 images\n",
    "samples(images[:3], labels[:3], dataset.classes)\n",
    "\n",
    "# print(f\"Image shape: {sample_images[0].shape}\")\n"
   ]
  },
  {
   "cell_type": "markdown",
   "metadata": {},
   "source": [
    "Below I define the CNN Model class which inherits the pytorch module, making it structural and modular for training.\n",
    "I define three convolutional layers:\n",
    "The first layer processes the 3-channel RGB input with 32 filters of size 3x3.\n",
    "The next two layers increase the number of filters to 64 and 128, capturing more complex patterns at each stage.\n",
    "Padding of 1 ensures the output spatial dimensions remain consistent after convolution.\n",
    "The max pooling layer is 2X2 to downsize the feature maps by half. Next, I flatten the maps to 128*4*4 for a dense mapping with 512 neurons.\n",
    "Dropout layers are added to reduce overfitting by half.\n",
    "\n",
    "In the Forward Pass, each layer is passed by a ReLu activation function compared to others as it outputs 0 for negative inputs and speeds the training in dense networks.\n",
    "I have also added view for flattening it from 2D maps to 1D vector.\n",
    "The CNN constructor adjusts the output layer to match the dataset’s classes, ensuring compatibility regardless of the number of categories.\n",
    "The  Cross Entropy loss funtion helps to convert the c2 layer high probabilities to classes as it combines the log-softmax and negative log into a single log function.\n",
    "Lastly, I have used Adam Optimizer as it reduces oscillation during gradient descent and gives a faster convergence rates with a learning rate of 0.001 for stability."
   ]
  },
  {
   "cell_type": "code",
   "execution_count": 9,
   "metadata": {},
   "outputs": [],
   "source": [
    "# CNN MODEL CLASS\n",
    "class CNN(nn.Module):\n",
    "    def __init__(self, number_classes):\n",
    "        super(CNN, self).__init__()\n",
    "        self.conv1 = nn.Conv2d(3, 32, kernel_size=3, padding=1)\n",
    "        self.conv2 = nn.Conv2d(32, 64, kernel_size=3, padding=1)\n",
    "        self.conv3 = nn.Conv2d(64, 128, kernel_size=3, padding=1)\n",
    "        self.pool = nn.MaxPool2d(2, 2)\n",
    "        self.c1 = nn.Linear(128 * 4 * 4, 512)  \n",
    "        self.dropout = nn.Dropout(0.5)\n",
    "        self.c2 = nn.Linear(512, number_classes)\n",
    "\n",
    "    def forward(self, x):\n",
    "        x = self.pool(F.relu(self.conv1(x)))\n",
    "        x = self.pool(F.relu(self.conv2(x)))\n",
    "        x = self.pool(F.relu(self.conv3(x)))\n",
    "        x = x.view(-1, 128 * 4 * 4) \n",
    "        x = F.relu(self.c1(x))\n",
    "        self.dropout = nn.Dropout(0.5)\n",
    "        x = self.c2(x)\n",
    "        return x\n",
    "\n",
    "# model intialization and optimization\n",
    "model = CNN(number_classes=num_classes)\n",
    "criteria = nn.CrossEntropyLoss()\n",
    "optimizer = optim.Adam(model.parameters(), lr=0.001)\n"
   ]
  },
  {
   "cell_type": "markdown",
   "metadata": {},
   "source": [
    "In the Training Model, each epoch completes one round over training and validation.\n",
    "The images and labels are put into batches as it optimizes the memory and are passed through the model to give prediction for each image.\n",
    "the loss function tracks the difference in predictions and labels so I compute the gradient for the loss and the parameters are optimized.\n",
    "The running loss is used to calculate the average training loss later on.\n",
    "I specifically used zero_grad as my optimizer as it provides with each batch gradient computation and gradients from previous batches do not interfere with the current batch.\n",
    "\n",
    "In the Validation step, I switch off the gradient descent with no_grad reducing memory usage. The validation dataset loaded in batches is passed through the model to generate predictions and for each batch the loss is calculated.\n",
    "i did use torch.max to normalize the scores for each class.\n",
    "Based on our predictions with the labels I calculate the accuracy.\n",
    "\n",
    "Lastly, I print the metrics for each epoch and the call the training model.\n",
    "\n",
    "Changing the epoch from 10 to 8 made validation accuracy stabilize at 98.40% after just the first epoch, showing that the model learns the key patterns quickly.\n",
    "Training loss is extremely low, indicating that the model fits the training data almost perfectly.\n",
    "the risk of overfitting is minimal with stable performance.\n"
   ]
  },
  {
   "cell_type": "code",
   "execution_count": 14,
   "metadata": {},
   "outputs": [
    {
     "name": "stdout",
     "output_type": "stream",
     "text": [
      "Epoch 1/8, Train Loss: 0.0026, Validation Loss: 0.1364, Validation Accuracy: 98.40%\n",
      "Epoch 2/8, Train Loss: 0.0010, Validation Loss: 0.1459, Validation Accuracy: 98.40%\n",
      "Epoch 3/8, Train Loss: 0.0003, Validation Loss: 0.1512, Validation Accuracy: 98.40%\n",
      "Epoch 4/8, Train Loss: 0.0002, Validation Loss: 0.1544, Validation Accuracy: 98.40%\n",
      "Epoch 5/8, Train Loss: 0.0002, Validation Loss: 0.1569, Validation Accuracy: 98.40%\n",
      "Epoch 6/8, Train Loss: 0.0001, Validation Loss: 0.1588, Validation Accuracy: 98.40%\n",
      "Epoch 7/8, Train Loss: 0.0001, Validation Loss: 0.1609, Validation Accuracy: 98.40%\n",
      "Epoch 8/8, Train Loss: 0.0001, Validation Loss: 0.1625, Validation Accuracy: 98.40%\n"
     ]
    }
   ],
   "source": [
    "# train model for each epoch\n",
    "def train_model(model, train_loader, val_loader,criteria, optimizer, epochs=8):\n",
    "    for epoch in range(epochs):\n",
    "        model.train()\n",
    "        running_loss = 0.0\n",
    "        for images, labels in train_loader:\n",
    "            optimizer.zero_grad()\n",
    "            outputs = model(images)\n",
    "            loss = criteria(outputs, labels)\n",
    "            loss.backward()\n",
    "            optimizer.step()\n",
    "            running_loss += loss.item()\n",
    "        \n",
    "        # Validation step\n",
    "        model.eval()\n",
    "        val_loss = 0.0\n",
    "        correct = 0\n",
    "        total = 0\n",
    "        with torch.no_grad():\n",
    "            for images, labels in val_loader:\n",
    "                outputs = model(images)\n",
    "                loss = criteria(outputs, labels)\n",
    "                val_loss += loss.item()\n",
    "                _, predicted = torch.max(outputs, 1)\n",
    "                total += labels.size(0)\n",
    "                correct += (predicted == labels).sum().item()\n",
    "        \n",
    "        \n",
    "        print(f\"Epoch {epoch+1}/{epochs}, \"\n",
    "              f\"Train Loss: {running_loss/len(train_loader):.4f}, \"\n",
    "              f\"Validation Loss: {val_loss/len(val_loader):.4f}, \"\n",
    "              f\"Validation Accuracy: {100 * correct / total:.2f}%\")\n",
    "\n",
    "# Train the model\n",
    "train_model(model, train_loader, val_loader, criteria, optimizer, epochs=8)\n"
   ]
  },
  {
   "cell_type": "markdown",
   "metadata": {},
   "source": [
    "I seperately evaluate the trained model and set it to evaluation mode giving a accuracy score as a percentage for the model.\n",
    "Lastly, I call the model on test_model.\n",
    "\n",
    "An accuracy between 96-99% indicated the test samples are demonstrating good generalization to raw data."
   ]
  },
  {
   "cell_type": "code",
   "execution_count": 19,
   "metadata": {},
   "outputs": [
    {
     "name": "stdout",
     "output_type": "stream",
     "text": [
      "Accuracy Score: 97.44%\n"
     ]
    }
   ],
   "source": [
    "# Testing and Evaluation\n",
    "def test_model(model, test_loader):\n",
    "    model.eval()\n",
    "    correct, total = 0, 0\n",
    "    with torch.no_grad():\n",
    "        for images, labels in test_loader:\n",
    "            outputs = model(images)\n",
    "            _, predicted = torch.max(outputs, 1)\n",
    "            total += labels.size(0)\n",
    "            correct += (predicted == labels).sum().item()\n",
    "    print(f\"Accuracy Score: {100 * correct / total:.2f}%\")\n",
    "\n",
    "test_model(model, test_loader)"
   ]
  },
  {
   "cell_type": "markdown",
   "metadata": {},
   "source": [
    "Saving the model."
   ]
  },
  {
   "cell_type": "code",
   "execution_count": 20,
   "metadata": {},
   "outputs": [
    {
     "name": "stdout",
     "output_type": "stream",
     "text": [
      "Saved trained model\n"
     ]
    }
   ],
   "source": [
    "# save the model\n",
    "torch.save(model, 'model.pth')\n",
    "print('Saved trained model')"
   ]
  }
 ],
 "metadata": {
  "kernelspec": {
   "display_name": "Python 3",
   "language": "python",
   "name": "python3"
  },
  "language_info": {
   "codemirror_mode": {
    "name": "ipython",
    "version": 3
   },
   "file_extension": ".py",
   "mimetype": "text/x-python",
   "name": "python",
   "nbconvert_exporter": "python",
   "pygments_lexer": "ipython3",
   "version": "3.9.0"
  }
 },
 "nbformat": 4,
 "nbformat_minor": 2
}
