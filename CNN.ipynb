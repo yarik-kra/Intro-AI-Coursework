{
 "cells": [
  {
   "cell_type": "markdown",
   "metadata": {},
   "source": [
    "IMPORTING LIBRARIES AND READING THE CSV FILE "
   ]
  },
  {
   "cell_type": "code",
   "execution_count": 2,
   "metadata": {},
   "outputs": [
    {
     "name": "stdout",
     "output_type": "stream",
     "text": [
      "    ClassId                          Name\n",
      "0         0           Speed limit (5km/h)\n",
      "1         1          Speed limit (15km/h)\n",
      "2         2          Speed limit (30km/h)\n",
      "3         3          Speed limit (40km/h)\n",
      "4         4          Speed limit (50km/h)\n",
      "5         5          Speed limit (60km/h)\n",
      "6         6          Speed limit (70km/h)\n",
      "7         7          speed limit (80km/h)\n",
      "8         8      Dont Go straight or left\n",
      "9         9     Dont Go straight or Right\n",
      "10       10              Dont Go straight\n",
      "11       11                  Dont Go Left\n",
      "12       12         Dont Go Left or Right\n",
      "13       13                 Dont Go Right\n",
      "14       14       Dont overtake from Left\n",
      "15       15                      No Uturn\n",
      "16       16                        No Car\n",
      "17       17                       No horn\n",
      "18       18          Speed limit (40km/h)\n",
      "19       19          Speed limit (50km/h)\n",
      "20       20          Go straight or right\n",
      "21       21                   Go straight\n",
      "22       22                       Go Left\n",
      "23       23              Go Left or right\n",
      "24       24                      Go Right\n",
      "25       25                     keep Left\n",
      "26       26                    keep Right\n",
      "27       27          Roundabout mandatory\n",
      "28       28            watch out for cars\n",
      "29       29                          Horn\n",
      "30       30             Bicycles crossing\n",
      "31       31                         Uturn\n",
      "32       32                  Road Divider\n",
      "33       33               Traffic signals\n",
      "34       34                  Danger Ahead\n",
      "35       35                Zebra Crossing\n",
      "36       36             Bicycles crossing\n",
      "37       37             Children crossing\n",
      "38       38   Dangerous curve to the left\n",
      "39       39  Dangerous curve to the right\n",
      "40       40                      Unknown1\n",
      "41       41                      Unknown2\n",
      "42       42                      Unknown3\n",
      "43       43          Go right or straight\n",
      "44       44           Go left or straight\n",
      "45       45                      Unknown4\n",
      "46       46                  ZigZag Curve\n",
      "47       47                Train Crossing\n",
      "48       48            Under Construction\n",
      "49       49                      Unknown5\n",
      "50       50                        Fences\n",
      "51       51       Heavy Vehicle Accidents\n",
      "52       52                      Unknown6\n",
      "53       53                      Give Way\n",
      "54       54                   No stopping\n",
      "55       55                      No entry\n",
      "56       56                      Unknown7\n",
      "57       57                      Unknown8\n"
     ]
    }
   ],
   "source": [
    "import os\n",
    "import pandas as pd \n",
    "\n",
    "file_path = \"/Users/ibhaankudalkar/Downloads/archive/labels.csv\"\n",
    "\n",
    "filename_read = os.path.join(file_path, \"/Users/ibhaankudalkar/Downloads/archive/labels.csv\")\n",
    "df = pd.read_csv(filename_read)\n",
    "print(df)"
   ]
  },
  {
   "cell_type": "markdown",
   "metadata": {},
   "source": [
    "- IMPORTING PYTORCH LIBRARY\n",
    "- USING TRANSFORM TO PREPROCESS EACH IMAGE\n",
    "- RESIZING 32X32 FOR FIXED PIXEL SIZE\n",
    "- TO TENSOR TO TO CONVERT IN PYTORCH METHOD \n",
    "-  NORMALIZE FOR STANDARD RANGE\n",
    "- LOAD THE IMAGE DATA\n",
    "- SPLIT THE DATA\n"
   ]
  },
  {
   "cell_type": "code",
   "execution_count": 14,
   "metadata": {},
   "outputs": [
    {
     "name": "stdout",
     "output_type": "stream",
     "text": [
      "Train size: 2919\n",
      "Validation size: 625\n",
      "Test size: 626\n",
      "4170\n",
      "<torch.utils.data.dataloader.DataLoader object at 0x7fd812e19550>\n"
     ]
    }
   ],
   "source": [
    "# CNN Implementation in pytorch \n",
    "\n",
    "import torch\n",
    "import torch.nn as nn\n",
    "import torch.optim \n",
    "import torch.optim as optim\n",
    "from torch.utils.data import DataLoader, random_split\n",
    "from torchvision import datasets, transforms\n",
    "from sklearn.model_selection import train_test_split\n",
    "\n",
    "# transformation \n",
    "transform = transforms.Compose([\n",
    "    transforms.Resize((32, 32)),\n",
    "    transforms.ToTensor(),\n",
    "    transforms.Normalize((0.5, 0.5, 0.5), (0.5, 0.5, 0.5)),\n",
    "])\n",
    "\n",
    "dataset = datasets.ImageFolder(root='/Users/ibhaankudalkar/Downloads/archive/traffic_Data/DATA', transform=transform)\n",
    "\n",
    "# train test split\n",
    "train_size = int(0.7 * len(dataset)) # 70\n",
    "val_size = int(0.15 * len(dataset)) # 15\n",
    "test_size = len(dataset) - train_size - val_size # 15\n",
    "train_dataset, val_dataset, test_dataset = random_split(dataset, [train_size, val_size, test_size])\n",
    "print(\"Train size:\", train_size)\n",
    "print(\"Validation size:\", val_size)\n",
    "print(\"Test size:\", test_size)\n",
    "print(train_size + val_size + test_size)\n",
    "\n",
    "train_loader = DataLoader(train_dataset, batch_size=32, shuffle=True)\n",
    "val_loader = DataLoader(val_dataset, batch_size=32, shuffle=False)\n",
    "test_loader = DataLoader(test_dataset, batch_size=32, shuffle=False)\n",
    "\n"
   ]
  },
  {
   "cell_type": "code",
   "execution_count": null,
   "metadata": {},
   "outputs": [],
   "source": [
    "class CNN(nn.Module):\n",
    "    def __init__(self, num_classes):\n",
    "        super(CNN, self).__init__()\n"
   ]
  }
 ],
 "metadata": {
  "kernelspec": {
   "display_name": "Python 3",
   "language": "python",
   "name": "python3"
  },
  "language_info": {
   "codemirror_mode": {
    "name": "ipython",
    "version": 3
   },
   "file_extension": ".py",
   "mimetype": "text/x-python",
   "name": "python",
   "nbconvert_exporter": "python",
   "pygments_lexer": "ipython3",
   "version": "3.9.0"
  }
 },
 "nbformat": 4,
 "nbformat_minor": 2
}
