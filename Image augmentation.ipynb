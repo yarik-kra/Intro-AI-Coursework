{
 "cells": [
  {
   "cell_type": "markdown",
   "id": "2bfd452d-4e8c-42f3-8f6b-fdabfaa8717b",
   "metadata": {},
   "source": [
    "# Exploring the images in the dataset\n",
    "Before training the models, we need to check that there are an even number of images accross the labels, otherwise it may introduce biases within the models, underfitting or overfitting a given label. To check this, we are going to count the number of images in each given folder and then plot on a graph to visualise whether descrepency across the labels is significant enough to deal with this issue."
   ]
  },
  {
   "cell_type": "code",
   "execution_count": 1,
   "id": "bb793177-7f8b-44b1-bfff-06b16c584ac0",
   "metadata": {
    "scrolled": true
   },
   "outputs": [
    {
     "data": {
      "text/plain": "<Figure size 800x500 with 1 Axes>",
      "image/png": "[encoded data removed]"
     },
     "metadata": {},
     "output_type": "display_data"
    }
   ],
   "source": [
    "import os\n",
    "\n",
    "from matplotlib import pyplot as plt\n",
    "\n",
    "data_path = 'data/traffic_Data/DATA/' \n",
    "\n",
    "# Dictionary storing classes and the amount of images in each class\n",
    "data_image_counts = {}\n",
    "for class_id in range(58):\n",
    "    directory = os.path.join(data_path, str(class_id))\n",
    "    if os.path.exists(directory):\n",
    "        data_image_counts[class_id] = len(os.listdir(directory))\n",
    "    \n",
    "# Plotting the data for each class\n",
    "plt.figure(figsize=(8, 5))\n",
    "plt.bar(data_image_counts.keys(), data_image_counts.values())\n",
    "plt.xlabel('Class ID')\n",
    "plt.ylabel('Number of Images')\n",
    "plt.title('Number of Images Within Each Class in the DATA set')\n",
    "plt.show()"
   ]
  },
  {
   "cell_type": "markdown",
   "id": "d8fa39f0-c74c-46fe-b1ca-0b4f69942dcf",
   "metadata": {},
   "source": [
    "# Descrepency in the amount of images in each class\n",
    "As displayed in the two graphs above, there is an enormous difference between the class with the most number of training/testing images and the class with the least number of images. Therefore, we are going to use image augmentation to manipulate images in classes with a small sample to increase the number of samples, and thus creating a dataset with no bias.\n",
    "# How image augmentation is going to be used on this dataset\n",
    "## Figuring out the number of missing images\n",
    "Before we use image augmentation, we need to figure out how many new images we are going to create. To do this, we need to find the difference between the class with the most images and the class with the least number of images; that will be the maximum number of images that will generated for a given class."
   ]
  },
  {
   "cell_type": "code",
   "execution_count": 2,
   "id": "b1b987e7-395f-4cb9-9c76-a5da70c6ef4b",
   "metadata": {},
   "outputs": [
    {
     "name": "stdout",
     "output_type": "stream",
     "text": [
      "The difference between the class with the highest number of images and the class with the lowest number of images in DATA is 444.\n"
     ]
    }
   ],
   "source": [
    "most_images = max(data_image_counts.values())\n",
    "least_images = min(data_image_counts.values())\n",
    "range_images = most_images - least_images\n",
    "print(f\"The difference between the class with the highest number of images and the class with the lowest number of images in DATA is {range_images}.\")"
   ]
  },
  {
   "cell_type": "markdown",
   "id": "3c6fd4fc-8d14-41d5-97c1-82365c5d2843",
   "metadata": {},
   "source": [
    "## Image augmentation techniques\n",
    "Image augmentation provides various techniques amongst which:\n",
    "- Motion blur: to simulate motion blur\n",
    "- Color jittering: to get images at different brightness levels, contrast, and saturation\n",
    "- Cropping: to get the road signs at different sizes \n",
    "- Perspective transformation: to simulate different angles on different road signs\n",
    "- Salt-and-pepper Noise: to add random black and white dots to simulate dirt on the roadsigns"
   ]
  },
  {
   "cell_type": "code",
   "execution_count": 3,
   "id": "d1255993-9b00-46c8-bbff-aca4b37b92e6",
   "metadata": {},
   "outputs": [
    {
     "name": "stdout",
     "output_type": "stream",
     "text": [
      "The maximum number of images that will be generated using image augmentation for each technique will be 89 images.\n"
     ]
    }
   ],
   "source": [
    "from math import ceil\n",
    "max_augmentation = ceil(range_images/5)\n",
    "print(f\"The maximum number of images that will be generated using image augmentation for each technique will be {max_augmentation} images.\")"
   ]
  },
  {
   "cell_type": "code",
   "execution_count": 4,
   "id": "c1e5c25d-8084-4dc9-8721-c4debecbcc44",
   "metadata": {},
   "outputs": [],
   "source": [
    "import cv2 as cv#To import image and augment them\n",
    "import numpy as np #To manipulate the pixel values of the images"
   ]
  },
  {
   "cell_type": "markdown",
   "id": "2f34e7a8-eecf-48fb-b01a-4bdc874e1555",
   "metadata": {},
   "source": [
    "### Motion blur\n",
    "The first technique we want to implement is horizontal motion blur, as the models trained with this dataset would be essential for computer vision on electric cars. Therefore, when the car is in motion, the cameras capturing the environment around may experience horizontal motion blur, hence we believe that this dataset should be adjustest for such a occasion by training the models on images with this effect."
   ]
  },
  {
   "cell_type": "code",
   "execution_count": 5,
   "id": "fe9f7c87-42fa-4d72-bcae-7fb4367302a2",
   "metadata": {},
   "outputs": [],
   "source": [
    "def motion_blur(img):\n",
    "    kernel_size = np.random.randint(2, 15) \n",
    "    kernel = np.zeros((kernel_size, kernel_size))\n",
    "    kernel[int((kernel_size-1)/2), :] = np.ones(kernel_size)\n",
    "    kernel /= kernel_size # Normalising the kernel\n",
    "    return cv.filter2D(img, -1, kernel)"
   ]
  },
  {
   "cell_type": "markdown",
   "id": "70cc8216-66aa-4161-8019-805ec781ad3a",
   "metadata": {},
   "source": [
    "### Color jitter\n",
    "This technique will simulate images with some noise. This noise in a car's camera may be due to damage, and will have to be accounted for when training the models."
   ]
  },
  {
   "cell_type": "code",
   "execution_count": 6,
   "id": "f155120f-21c0-4044-9142-76b87901228a",
   "metadata": {},
   "outputs": [],
   "source": [
    "def color_jitter(img):\n",
    "    h, w, c = img.shape\n",
    "    noise = np.random.randint(0, 50, (h,w)) # Creating noise\n",
    "    jitter = np.zeros_like(img)\n",
    "    jitter[:,:,1] = noise \n",
    "    return cv.add(img, jitter) # Applying noise to image"
   ]
  },
  {
   "cell_type": "markdown",
   "id": "659960ca-3ff0-48c3-a14c-8914328f780d",
   "metadata": {},
   "source": [
    "### Cropping\n",
    "This transformation will allow the model to train with new examples from the original images. This helps the models generalise better and prevent them from overfitting to a specific spatial position."
   ]
  },
  {
   "cell_type": "code",
   "execution_count": 7,
   "id": "04dc1d03-bfa4-43b8-9794-8297c1c858ea",
   "metadata": {},
   "outputs": [],
   "source": [
    "def crop(img):\n",
    "    h, w, c = img.shape\n",
    "    # Maximum crop will be of 30% \n",
    "    # Does not crop the middle of the image because subject is in the middle\n",
    "    x1 = np.random.randint(0, ceil(w*0.15))\n",
    "    x2 = np.random.randint(w*0.85, w)\n",
    "    y1 = np.random.randint(0, ceil(h*0.15))\n",
    "    y2 = np.random.randint(h*0.85, h)\n",
    "    return img[x1:x2, y1:y2]"
   ]
  },
  {
   "cell_type": "markdown",
   "id": "223e5644-e88d-4236-9cc2-9a9e5345dc1b",
   "metadata": {},
   "source": [
    "### Perspective transformation \n",
    "In real life, cameras may capture road sign images at different angles. To simulate this situation, we are going to transform the perspective images in the dataset. Since they will usually be horizontally, I am going to focus on the horizontal perspectives."
   ]
  },
  {
   "cell_type": "code",
   "execution_count": 8,
   "id": "40043b92-74c8-4f39-b689-77f9e9753d22",
   "metadata": {},
   "outputs": [],
   "source": [
    "def pt(img):\n",
    "    h, w, c = img.shape\n",
    "    # Getting random points on image\n",
    "    x1 = np.random.randint(0, ceil(w*0.2))\n",
    "    y1 = np.random.randint(0, ceil(h*0.2))\n",
    "    \n",
    "    x2 = np.random.randint(ceil(w*0.8), w)\n",
    "    y2 = np.random.randint(0, ceil(h*0.2))\n",
    "    \n",
    "    x3 = np.random.randint(0, ceil(w*0.2))\n",
    "    y3 = np.random.randint(ceil(h*0.8), h)\n",
    "    \n",
    "    x4 = np.random.randint(ceil(w*0.8), w)     \n",
    "    y4 = np.random.randint(ceil(h*0.8), h)\n",
    "\n",
    "    pts1 = np.float32([[x1, y1], [x2, y2], \n",
    "                       [x3, y3], [x4, y4]])\n",
    "    pts2 = np.float32([[0, 0], [w, 0], \n",
    "                       [0, h], [w, h]])\n",
    "\n",
    "    # Mapping pts2 onto pts1\n",
    "    M = cv.getPerspectiveTransform(pts1,pts2)\n",
    "\n",
    "    # Returning applied transformation\n",
    "    return cv.warpPerspective(img,M,(w, h))"
   ]
  },
  {
   "cell_type": "markdown",
   "id": "73bec88f-8930-48d3-926f-b08579d13d40",
   "metadata": {},
   "source": [
    "### Salt-and-pepper noise\n",
    "Applying this noise to the images will simulate dirt being stuck on the road signs. Otherwise, there can be some dirt stuck on the camera itself, simulating the same effect."
   ]
  },
  {
   "cell_type": "code",
   "execution_count": 9,
   "id": "b72f1a05-7cae-499e-8234-8c2d719d6c98",
   "metadata": {},
   "outputs": [],
   "source": [
    "def sap(img):  \n",
    "    new_img = np.copy(img)\n",
    "    h, w, c = img.shape \n",
    "      \n",
    "    # Randomly picks a number of pixels between 300 and 1000 to colour in white\n",
    "    number_of_pixels = np.random.randint(60, 150) \n",
    "    for i in range(number_of_pixels): \n",
    "        \n",
    "        # Pick a random y coordinate \n",
    "        y_coord = np.random.randint(0, h - 1) \n",
    "          \n",
    "        # Pick a random x coordinate \n",
    "        x_coord = np.random.randint(0, w - 1) \n",
    "          \n",
    "        # Color that pixel to white \n",
    "        new_img[y_coord][x_coord] = 255\n",
    "          \n",
    "    # Randomly picks a number of pixels between 300 and 1000 to colour in black\n",
    "    number_of_pixels = np.random.randint(60, 200) \n",
    "    for i in range(number_of_pixels): \n",
    "        \n",
    "        # Pick a random y coordinate \n",
    "        y_coord = np.random.randint(0, h - 1) \n",
    "          \n",
    "        # Pick a random x coordinate \n",
    "        x_coord = np.random.randint(0, w - 1) \n",
    "          \n",
    "        # Color that pixel to black \n",
    "        new_img[y_coord][x_coord] = 0\n",
    "          \n",
    "    return new_img "
   ]
  },
  {
   "cell_type": "markdown",
   "id": "a6b1bfeb-1d36-4fc5-9886-3907d6aa823d",
   "metadata": {},
   "source": [
    "## Applying techniques to the dataset\n",
    "Now that we have written a few algorithms for the differenct image augmentation techniques, we have to apply them to the classes with few images. Firstly, we are going to iterate through the folders and count how many images there are; if there are not enough images, we will generate them using the different techniques."
   ]
  },
  {
   "cell_type": "code",
   "execution_count": 10,
   "id": "87963d0e-f976-4d6a-9135-33c559cd5913",
   "metadata": {},
   "outputs": [],
   "source": [
    "for i in range(58):\n",
    "    imgs = []\n",
    "    folder = data_path + str(i)\n",
    "    # Reading all the images in each folder\n",
    "    for filename in os.listdir(folder):\n",
    "        img = cv.imread(os.path.join(folder, filename))\n",
    "\n",
    "        if img is not None:\n",
    "            imgs.append(img) # Adding to a list\n",
    "\n",
    "    images2add = most_images - len(imgs)\n",
    "    counter = 0\n",
    "\n",
    "    # Applying filters if there are not enough images\n",
    "    while images2add > 0:\n",
    "        img = imgs[np.random.randint(len(imgs))]\n",
    "        \n",
    "        new_img = motion_blur(img)\n",
    "        cv.imwrite(os.path.join(folder, f\"motion_blur_{counter}.png\"), new_img)\n",
    "        images2add -= 1\n",
    "        if images2add == 0:\n",
    "            break\n",
    "\n",
    "        new_img = color_jitter(img)\n",
    "        cv.imwrite(os.path.join(folder, f\"color_jitter{counter}.png\"), new_img)\n",
    "        images2add -= 1\n",
    "        if images2add == 0:\n",
    "            break\n",
    "\n",
    "        new_img = crop(img)\n",
    "        cv.imwrite(os.path.join(folder, f\"crop_{counter}.png\"), new_img)\n",
    "        images2add -= 1\n",
    "        if images2add == 0:\n",
    "            break\n",
    "\n",
    "        new_img = pt(img)\n",
    "        cv.imwrite(os.path.join(folder, f\"perspective_transformation_{counter}.png\"), new_img)\n",
    "        images2add -= 1\n",
    "        if images2add == 0:\n",
    "            break\n",
    "\n",
    "        new_img = sap(img)\n",
    "        cv.imwrite(os.path.join(folder, f\"salt_and_pepper_{counter}.png\"), new_img)\n",
    "        images2add -= 1\n",
    "        if images2add == 0:\n",
    "            break\n",
    "\n",
    "        counter += 1"
   ]
  },
  {
   "cell_type": "markdown",
   "id": "763916ac-9a66-4c2a-88c4-f0ebf6cb832d",
   "metadata": {},
   "source": [
    "# Conclusion\n",
    "Now that there are equal number number of images across the dataset, the biases in the dataset have been removed."
   ]
  },
  {
   "cell_type": "code",
   "execution_count": 11,
   "id": "5ee54932-9e13-4536-b7aa-17c3d0921e6c",
   "metadata": {},
   "outputs": [
    {
     "data": {
      "text/plain": "<Figure size 800x500 with 1 Axes>",
      "image/png": "[encoded data removed]"
     },
     "metadata": {},
     "output_type": "display_data"
    }
   ],
   "source": [
    "# Dictionary storing classes and the amount of images in each class\n",
    "data_image_counts = {}\n",
    "for class_id in range(58):\n",
    "    directory = os.path.join(data_path, str(class_id))\n",
    "    if os.path.exists(directory):\n",
    "        data_image_counts[class_id] = len(os.listdir(directory))\n",
    "    \n",
    "# Plotting the data for each class\n",
    "plt.figure(figsize=(8, 5))\n",
    "plt.bar(data_image_counts.keys(), data_image_counts.values())\n",
    "plt.xlabel('Class ID')\n",
    "plt.ylabel('Number of Images')\n",
    "plt.title('Number of Images Within Each Class in the DATA set')\n",
    "plt.show()"
   ]
  },
  {
   "cell_type": "markdown",
   "id": "db9deb91",
   "metadata": {},
   "source": [
    "Finally, I will also reduce each class size down to 200 to reduce the size of the dataset, which will speed up the model run-time as currently there are too many images to work with:"
   ]
  },
  {
   "cell_type": "code",
   "execution_count": 12,
   "id": "a3500bb3",
   "metadata": {},
   "outputs": [
    {
     "data": {
      "text/plain": "<Figure size 800x500 with 1 Axes>",
      "image/png": "[encoded data removed]"
     },
     "metadata": {},
     "output_type": "display_data"
    }
   ],
   "source": [
    "\n",
    "import os\n",
    "from matplotlib import pyplot as plt\n",
    "\n",
    "data_path = 'data/traffic_Data/DATA' \n",
    "\n",
    "for class_id in range(58):\n",
    "    data_directory = os.path.join(data_path, str(class_id))\n",
    "    if os.path.exists(data_directory):\n",
    "        class_img_count = 0\n",
    "        for img_file in os.listdir(data_directory):\n",
    "            img_path = os.path.join(data_directory, img_file)\n",
    "            if class_img_count >= 200:\n",
    "                os.remove(img_path)\n",
    "            class_img_count += 1\n",
    "\n",
    "data_image_counts = {}\n",
    "for class_id in range(58):\n",
    "    directory = os.path.join(data_path, str(class_id))\n",
    "    if os.path.exists(directory):\n",
    "        data_image_counts[class_id] = len(os.listdir(directory))\n",
    "    \n",
    "# Plotting the data for each class\n",
    "plt.figure(figsize=(8, 5))\n",
    "plt.bar(data_image_counts.keys(), data_image_counts.values())\n",
    "plt.xlabel('Class ID')\n",
    "plt.ylabel('Number of Images')\n",
    "plt.title('Number of Images Within Each Class in the DATA set')\n",
    "plt.show()\n"
   ]
  }
 ],
 "metadata": {
  "kernelspec": {
   "display_name": "Python 3",
   "language": "python",
   "name": "python3"
  },
  "language_info": {
   "codemirror_mode": {
    "name": "ipython",
    "version": 3
   },
   "file_extension": ".py",
   "mimetype": "text/x-python",
   "name": "python",
   "nbconvert_exporter": "python",
   "pygments_lexer": "ipython3",
   "version": "3.10.1"
  }
 },
 "nbformat": 4,
 "nbformat_minor": 5
}
