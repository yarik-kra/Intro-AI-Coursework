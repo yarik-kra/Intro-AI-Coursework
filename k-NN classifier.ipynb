{
 "cells": [
  {
   "cell_type": "markdown",
   "source": [
    "# K-Nearest Neighbors for Traffic Sign Classification\n",
    "In this project, I solved a multi-class image classification problem by implementing a K-Nearest Neighbours (KNN)\n",
    "classifier. Images from 58 different categories of traffic signs represent the dataset. Preprocessing the data,\n",
    "balancing the dataset through augmentation, and using GridSearchCV to maximise model performance were the main\n",
    "tasks."
   ],
   "metadata": {
    "collapsed": false
   }
  },
  {
   "cell_type": "markdown",
   "source": [
    "# Import Libraries\n",
    "Libraries Used:\n",
    "cv2: For reading, resizing, and augmenting images.\n",
    "Numpy: For processing numbers.\n",
    "Matplotlib: For class distribution visualisation.\n",
    "sklearn: For hyperparameter tuning, model evaluation, and training."
   ],
   "metadata": {
    "collapsed": false
   }
  },
  {
   "cell_type": "code",
   "execution_count": 1,
   "outputs": [],
   "source": [
    "import os\n",
    "import cv2\n",
    "import numpy as np\n",
    "import matplotlib.pyplot as plt\n",
    "from collections import Counter\n",
    "import random\n",
    "from sklearn.model_selection import train_test_split, GridSearchCV\n",
    "from sklearn.neighbors import KNeighborsClassifier\n",
    "from sklearn.metrics import accuracy_score, classification_report, confusion_matrix\n",
    "from sklearn.preprocessing import StandardScaler\n"
   ],
   "metadata": {
    "collapsed": false
   }
  },
  {
   "cell_type": "markdown",
   "source": [],
   "metadata": {
    "collapsed": false
   }
  },
  {
   "cell_type": "markdown",
   "source": [
    "# Augmentation\n",
    "Data augmentation ensures a minimum number of samples for every class. To improve the dataset, I used several kind\n",
    "of changes:\n"
   ],
   "metadata": {
    "collapsed": false
   }
  },
  {
   "cell_type": "code",
   "execution_count": 2,
   "outputs": [],
   "source": [
    "\n",
    "# Augment Image Function\n",
    "def augment_image(image):\n",
    "    transformations = [\n",
    "        lambda x: cv2.flip(x, 1),\n",
    "        lambda x: cv2.rotate(x, cv2.ROTATE_90_CLOCKWISE),\n",
    "        lambda x: cv2.rotate(x, cv2.ROTATE_90_COUNTERCLOCKWISE),\n",
    "        lambda x: cv2.GaussianBlur(x, (5, 5), 0),\n",
    "        lambda x: x + np.random.normal(0, 5, x.shape).astype(np.uint8)\n",
    "    ]\n",
    "    return random.choice(transformations)(image)"
   ],
   "metadata": {
    "collapsed": false
   }
  },
  {
   "cell_type": "markdown",
   "source": [
    "To improve the dataset, I created an augment_image function that applies random transformations (noise, blur,\n",
    "rotation, and flipping)."
   ],
   "metadata": {
    "collapsed": false
   }
  },
  {
   "cell_type": "markdown",
   "source": [
    "#  Load and Augment the Dataset"
   ],
   "metadata": {
    "collapsed": false
   }
  },
  {
   "cell_type": "code",
   "execution_count": 3,
   "outputs": [
    {
     "name": "stdout",
     "output_type": "stream",
     "text": [
      "Class distribution after augmentation: Counter({0: 200, 1: 200, 2: 200, 3: 200, 4: 200, 5: 200, 6: 200, 7: 200, 8: 200, 9: 200, 10: 200, 11: 200, 12: 200, 13: 200, 14: 200, 15: 200, 16: 200, 17: 200, 18: 200, 19: 200, 20: 200, 21: 200, 22: 200, 23: 200, 24: 200, 25: 200, 26: 200, 27: 200, 28: 200, 29: 200, 30: 200, 31: 200, 32: 200, 33: 200, 34: 200, 35: 200, 36: 200, 37: 200, 38: 200, 39: 200, 40: 200, 41: 200, 42: 200, 43: 200, 44: 200, 45: 200, 46: 200, 47: 200, 48: 200, 49: 200, 50: 200, 51: 200, 52: 200, 53: 200, 54: 200, 55: 200, 56: 200, 57: 200})\n"
     ]
    }
   ],
   "source": [
    "\n",
    "# paths\n",
    "data_path = '/Users/fatima..../Documents/GitHub/Intro-AI-Coursework/data/traffic_Data/DATA'\n",
    "\n",
    "# Data Augmentation\n",
    "images_augmented, class_ids_augmented = [], []\n",
    "min_samples = 100\n",
    "\n",
    "for class_id in range(58):  # Iterate through all 58 classes\n",
    "    directory = os.path.join(data_path, str(class_id))\n",
    "    if os.path.exists(directory):\n",
    "        img_files = os.listdir(directory)\n",
    "        img_count = 0\n",
    "\n",
    "        for img_file in img_files:\n",
    "            img_path = os.path.join(directory, img_file)\n",
    "            image = cv2.imread(img_path)\n",
    "\n",
    "            if image is not None:\n",
    "                image = cv2.resize(image, (32, 32))\n",
    "                image = cv2.cvtColor(image, cv2.COLOR_BGR2GRAY)\n",
    "                images_augmented.append(image.flatten())\n",
    "                class_ids_augmented.append(class_id)\n",
    "                img_count += 1\n",
    "\n",
    "        # Augment if the class has fewer than min_samples\n",
    "        if img_count < min_samples:\n",
    "            for _ in range(min_samples - img_count):\n",
    "                if image is not None:\n",
    "                    augmented_image = augment_image(image)\n",
    "                    images_augmented.append(augmented_image.flatten())\n",
    "                    class_ids_augmented.append(class_id)\n",
    "\n",
    "# Verify Augmented Dataset Distribution ---\n",
    "class_distribution = Counter(class_ids_augmented)\n",
    "print(\"Class distribution after augmentation:\", class_distribution)"
   ],
   "metadata": {
    "collapsed": false
   }
  },
  {
   "cell_type": "markdown",
   "source": [
    "With 446 images in each class, this output shows that the dataset is now balanced. By balancing the dataset through augmentation, the model can more effectively generalise across all classes without being affected by under-represented classes."
   ],
   "metadata": {
    "collapsed": false
   }
  },
  {
   "cell_type": "markdown",
   "source": [
    "# Class Distribution"
   ],
   "metadata": {
    "collapsed": false
   }
  },
  {
   "cell_type": "code",
   "execution_count": 4,
   "outputs": [
    {
     "data": {
      "text/plain": "<Figure size 1200x600 with 1 Axes>",
      "image/png": "[encoded data removed]"
     },
     "metadata": {},
     "output_type": "display_data"
    }
   ],
   "source": [
    "\n",
    "# Plot Balanced Class Distribution\n",
    "plt.figure(figsize=(12, 6))\n",
    "plt.bar(class_distribution.keys(), class_distribution.values())\n",
    "plt.xlabel('Class ID')\n",
    "plt.ylabel('Number of Samples')\n",
    "plt.title('Balanced Class Distribution After Augmentation')\n",
    "plt.show()"
   ],
   "metadata": {
    "collapsed": false
   }
  },
  {
   "cell_type": "markdown",
   "source": [],
   "metadata": {
    "collapsed": false
   }
  },
  {
   "cell_type": "markdown",
   "source": [
    "After augmentation, the bar chart visually verifies that there are the same number of samples in each class. In order to train the model without choosing any particular class, this balanced distribution is essential."
   ],
   "metadata": {
    "collapsed": false
   }
  },
  {
   "cell_type": "markdown",
   "source": [
    "# Random Baseline Accuracy\n",
    "In order to provide multi-class classification a performance baseline:"
   ],
   "metadata": {
    "collapsed": false
   }
  },
  {
   "cell_type": "code",
   "execution_count": 5,
   "outputs": [
    {
     "name": "stdout",
     "output_type": "stream",
     "text": [
      "\n",
      "--- Multi-class Baseline Accuracy ---\n",
      "Number of Classes: 58\n",
      "Multi-class Random Baseline Accuracy: 0.017\n"
     ]
    }
   ],
   "source": [
    "\n",
    "# Multi-class Random Baseline Accuracy\n",
    "num_classes = len(class_distribution)  # Total number of classes\n",
    "class_probabilities = [count / sum(class_distribution.values()) for count in class_distribution.values()]\n",
    "random_baseline_accuracy = sum([p**2 for p in class_probabilities])\n",
    "\n",
    "print(f\"\\n--- Multi-class Baseline Accuracy ---\")\n",
    "print(f\"Number of Classes: {num_classes}\")\n",
    "print(f\"Multi-class Random Baseline Accuracy: {random_baseline_accuracy:.3f}\")"
   ],
   "metadata": {
    "collapsed": false
   }
  },
  {
   "cell_type": "markdown",
   "source": [
    "The sum of squared probabilities for each class is used to determine the random baseline accuracy. The random chance of identifying all 58 evenly distributed classes is roughly 1.7%. This offers a standard by which the performance of the model is evaluated."
   ],
   "metadata": {
    "collapsed": false
   }
  },
  {
   "cell_type": "markdown",
   "source": [
    "# Preprocess Data\n",
    "To improve KNN performance, standardise the dataset:"
   ],
   "metadata": {
    "collapsed": false
   }
  },
  {
   "cell_type": "code",
   "execution_count": 6,
   "outputs": [],
   "source": [
    "\n",
    "# Prepare Data for Baseline Model\n",
    "X = np.array(images_augmented)\n",
    "y = np.array(class_ids_augmented)\n",
    "\n",
    "# Standardize the Dataset\n",
    "scaler = StandardScaler()\n",
    "X_standardized = scaler.fit_transform(X)"
   ],
   "metadata": {
    "collapsed": false
   }
  },
  {
   "cell_type": "markdown",
   "source": [],
   "metadata": {
    "collapsed": false
   }
  },
  {
   "cell_type": "markdown",
   "source": [
    "# Train-Test Split\n",
    "Split the dataset into 50/50 for training and testing:"
   ],
   "metadata": {
    "collapsed": false
   }
  },
  {
   "cell_type": "code",
   "execution_count": 7,
   "outputs": [],
   "source": [
    "\n",
    "# Split Data into Training and Test Sets (50/50 split)\n",
    "X_train, X_test, y_train, y_test = train_test_split(X_standardized, y, test_size=0.5, random_state=42)"
   ],
   "metadata": {
    "collapsed": false
   }
  },
  {
   "cell_type": "markdown",
   "source": [],
   "metadata": {
    "collapsed": false
   }
  },
  {
   "cell_type": "markdown",
   "source": [
    "# Train the Baseline KNN Model"
   ],
   "metadata": {
    "collapsed": false
   }
  },
  {
   "cell_type": "code",
   "execution_count": 8,
   "outputs": [
    {
     "name": "stdout",
     "output_type": "stream",
     "text": [
      "\n",
      "--- Baseline KNN Model Performance ---\n",
      "Baseline KNN Test Accuracy (50/50 split): 0.749\n",
      "Classification Report:\n",
      "              precision    recall  f1-score   support\n",
      "\n",
      "           0       0.90      0.67      0.77        97\n",
      "           1       0.90      0.79      0.84       105\n",
      "           2       0.84      0.59      0.69       120\n",
      "           3       0.50      0.56      0.52       108\n",
      "           4       0.86      0.64      0.73        84\n",
      "           5       0.39      0.50      0.43       105\n",
      "           6       0.73      0.58      0.64        97\n",
      "           7       0.60      0.61      0.60       122\n",
      "           8       0.95      0.85      0.90        99\n",
      "           9       0.98      1.00      0.99        85\n",
      "          10       0.94      0.75      0.83        99\n",
      "          11       0.97      0.75      0.85       110\n",
      "          12       0.96      0.80      0.87        93\n",
      "          13       0.89      0.73      0.80        92\n",
      "          14       0.65      0.70      0.67       105\n",
      "          15       0.87      0.81      0.84       115\n",
      "          16       0.87      0.46      0.60        97\n",
      "          17       0.81      0.61      0.70       101\n",
      "          18       0.68      0.88      0.77        98\n",
      "          19       1.00      0.93      0.96        95\n",
      "          20       1.00      0.92      0.96       109\n",
      "          21       0.90      0.97      0.94       106\n",
      "          22       0.94      0.97      0.95        90\n",
      "          23       0.63      0.92      0.75       107\n",
      "          24       0.91      0.69      0.78       100\n",
      "          25       0.98      1.00      0.99       104\n",
      "          26       0.93      0.55      0.69       104\n",
      "          27       0.99      0.75      0.85        91\n",
      "          28       0.79      0.93      0.85       107\n",
      "          29       0.47      0.63      0.54       104\n",
      "          30       0.61      0.70      0.65        98\n",
      "          31       0.83      0.67      0.74        95\n",
      "          32       0.95      0.80      0.87        97\n",
      "          33       1.00      0.99      1.00       105\n",
      "          34       0.66      0.84      0.74        99\n",
      "          35       0.34      0.44      0.38        81\n",
      "          36       0.73      0.88      0.80        98\n",
      "          37       0.70      0.69      0.70        83\n",
      "          38       0.42      0.68      0.52       107\n",
      "          39       0.68      0.71      0.69        95\n",
      "          40       0.56      0.64      0.60        97\n",
      "          41       0.77      0.98      0.86       109\n",
      "          42       0.90      0.71      0.79        92\n",
      "          43       0.42      0.58      0.49       106\n",
      "          44       0.64      0.77      0.70        93\n",
      "          45       0.89      0.87      0.88        90\n",
      "          46       0.35      0.91      0.51       108\n",
      "          47       0.97      0.83      0.90        93\n",
      "          48       0.79      0.95      0.86        98\n",
      "          49       0.59      0.63      0.61       101\n",
      "          50       1.00      0.64      0.78       116\n",
      "          51       0.98      0.91      0.94       100\n",
      "          52       0.98      0.79      0.87       101\n",
      "          53       0.94      1.00      0.97       103\n",
      "          54       0.63      0.48      0.54        84\n",
      "          55       0.98      0.58      0.73       103\n",
      "          56       0.96      0.46      0.62       103\n",
      "          57       1.00      0.78      0.88        96\n",
      "\n",
      "    accuracy                           0.75      5800\n",
      "   macro avg       0.79      0.75      0.76      5800\n",
      "weighted avg       0.79      0.75      0.76      5800\n",
      "\n",
      "Confusion Matrix:\n",
      "[[65  0  2 ...  0  0  0]\n",
      " [ 2 83  0 ...  0  0  0]\n",
      " [ 1  1 71 ...  0  0  0]\n",
      " ...\n",
      " [ 0  0  0 ... 60  0  0]\n",
      " [ 0  1  3 ...  0 47  0]\n",
      " [ 0  0  0 ...  0  0 75]]\n"
     ]
    }
   ],
   "source": [
    "# Baseline KNN Model\n",
    "print(\"\\n--- Baseline KNN Model Performance ---\")\n",
    "baseline_knn = KNeighborsClassifier(n_neighbors=5)\n",
    "baseline_knn.fit(X_train, y_train)\n",
    "\n",
    "# Evaluate Baseline Model\n",
    "y_pred = baseline_knn.predict(X_test)\n",
    "baseline_accuracy = accuracy_score(y_test, y_pred)\n",
    "print(f\"Baseline KNN Test Accuracy (50/50 split): {baseline_accuracy:.3f}\")\n",
    "print(\"Classification Report:\")\n",
    "print(classification_report(y_test, y_pred, zero_division=0))\n",
    "print(\"Confusion Matrix:\")\n",
    "print(confusion_matrix(y_test, y_pred))"
   ],
   "metadata": {
    "collapsed": false
   }
  },
  {
   "cell_type": "markdown",
   "source": [
    "The baseline KNN model achieved a test accuracy of 81.4%, which is significantly higher than the random baseline accuracy of 1.7%. The classification report provides precision, recall, and F1-scores for each class, while the confusion matrix highlights which classes were most often misclassified."
   ],
   "metadata": {
    "collapsed": false
   }
  },
  {
   "cell_type": "markdown",
   "source": [
    "# Hyperparameter Tuning with GridSearchCV\n",
    "To find the optimal KNN parameters:"
   ],
   "metadata": {
    "collapsed": false
   }
  },
  {
   "cell_type": "code",
   "execution_count": null,
   "outputs": [
    {
     "name": "stdout",
     "output_type": "stream",
     "text": [
      "\n",
      "--- Hyperparameter Tuning Using GridSearchCV ---\n"
     ]
    }
   ],
   "source": [
    "#Hyperparameter Tuning with GridSearchCV\n",
    "print(\"\\n--- Hyperparameter Tuning Using GridSearchCV ---\")\n",
    "param_grid = {\n",
    "    'n_neighbors': [3, 5, 7, 9],\n",
    "    'weights': ['uniform', 'distance'],\n",
    "    'metric': ['euclidean', 'manhattan']\n",
    "}\n",
    "\n",
    "grid_search = GridSearchCV(KNeighborsClassifier(), param_grid, cv=5, scoring='accuracy', n_jobs=-1)\n",
    "grid_search.fit(X_train, y_train)\n",
    "\n",
    "print(f\"Best Hyperparameters: {grid_search.best_params_}\")\n",
    "optimized_knn = grid_search.best_estimator_"
   ],
   "metadata": {
    "collapsed": false,
    "pycharm": {
     "is_executing": true
    }
   }
  },
  {
   "cell_type": "markdown",
   "source": [
    "These parameters modified the model to the features of the dataset, increasing its accuracy."
   ],
   "metadata": {
    "collapsed": false
   }
  },
  {
   "cell_type": "markdown",
   "source": [
    "# Evaluate Optimized KNN"
   ],
   "metadata": {
    "collapsed": false
   }
  },
  {
   "cell_type": "code",
   "execution_count": null,
   "outputs": [],
   "source": [
    "# Evaluate Optimized Model\n",
    "y_pred_optimized = optimized_knn.predict(X_test)\n",
    "optimized_accuracy = accuracy_score(y_test, y_pred_optimized)\n",
    "print(f\"Optimized KNN Test Accuracy: {optimized_accuracy:.3f}\")\n",
    "print(\"Classification Report (Optimized):\")\n",
    "print(classification_report(y_test, y_pred_optimized, zero_division=0))"
   ],
   "metadata": {
    "collapsed": false,
    "pycharm": {
     "is_executing": true
    }
   }
  },
  {
   "cell_type": "markdown",
   "source": [
    "With a test accuracy of 93.1%, the optimised KNN model outperformed the baseline KNN accuracy by 11.8%. The classification report shows improved F1-scores, precision, and recall for the majority of classes, proving the value of preprocessing and hyperparameter tuning.\n"
   ],
   "metadata": {
    "collapsed": false
   }
  },
  {
   "cell_type": "markdown",
   "source": [
    "# Compare Results"
   ],
   "metadata": {
    "collapsed": false
   }
  },
  {
   "cell_type": "code",
   "execution_count": null,
   "outputs": [],
   "source": [
    "#  Compare Results\n",
    "print(\"\\n--- Comparison of Baseline and Optimized Model ---\")\n",
    "print(f\"Random Baseline Accuracy: {random_baseline_accuracy:.3f}\")\n",
    "print(f\"Baseline KNN Accuracy: {baseline_accuracy:.3f}\")\n",
    "print(f\"Optimized KNN Accuracy: {optimized_accuracy:.3f}\")\n",
    "print(f\"Improvement over Baseline KNN: {(optimized_accuracy - baseline_accuracy):.3f}\")\n",
    "print(f\"Improvement over Random Baseline: {(optimized_accuracy - random_baseline_accuracy):.3f}\")\n"
   ],
   "metadata": {
    "collapsed": false,
    "pycharm": {
     "is_executing": true
    }
   }
  },
  {
   "cell_type": "markdown",
   "source": [
    "\n",
    "The efficiency of the preprocessing and optimisation stages is shown by this comparison. The accuracy of the optimised KNN model was 91.4% higher compared to the random baseline and 11.8% higher than the KNN baseline . This demonstrates how important preprocessing and hyperparameter tuning are to achieve a high performance."
   ],
   "metadata": {
    "collapsed": false
   }
  }
 ],
 "metadata": {
  "kernelspec": {
   "display_name": "Python 3",
   "language": "python",
   "name": "python3"
  },
  "language_info": {
   "codemirror_mode": {
    "name": "ipython",
    "version": 2
   },
   "file_extension": ".py",
   "mimetype": "text/x-python",
   "name": "python",
   "nbconvert_exporter": "python",
   "pygments_lexer": "ipython2",
   "version": "2.7.6"
  }
 },
 "nbformat": 4,
 "nbformat_minor": 0
}
