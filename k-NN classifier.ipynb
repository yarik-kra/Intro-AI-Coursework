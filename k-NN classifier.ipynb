{
 "cells": [
  {
   "cell_type": "markdown",
   "source": [
    "# K-Nearest Neighbors for Traffic Sign Classification\n",
    "In this project, I solved a multi-class image classification problem by implementing a K-Nearest Neighbours (KNN)\n",
    "classifier. Images from 58 different categories of traffic signs represent the dataset. Preprocessing the data,\n",
    "balancing the dataset through augmentation, and using GridSearchCV to maximise model performance were the main\n",
    "tasks."
   ],
   "metadata": {
    "collapsed": false
   }
  },
  {
   "cell_type": "markdown",
   "source": [
    "# Import Libraries\n",
    "Libraries Used:\n",
    "cv2: For reading, resizing, and augmenting images.\n",
    "Numpy: For processing numbers.\n",
    "Matplotlib: For class distribution visualisation.\n",
    "sklearn: For hyperparameter tuning, model evaluation, and training."
   ],
   "metadata": {
    "collapsed": false
   }
  },
  {
   "cell_type": "code",
   "execution_count": 34,
   "outputs": [],
   "source": [
    "import os\n",
    "import cv2\n",
    "import numpy as np\n",
    "import matplotlib.pyplot as plt\n",
    "from collections import Counter\n",
    "import random\n",
    "from sklearn.model_selection import train_test_split, GridSearchCV\n",
    "from sklearn.neighbors import KNeighborsClassifier\n",
    "from sklearn.metrics import accuracy_score, classification_report, confusion_matrix\n",
    "from sklearn.preprocessing import StandardScaler\n"
   ],
   "metadata": {
    "collapsed": false
   }
  },
  {
   "cell_type": "markdown",
   "source": [],
   "metadata": {
    "collapsed": false
   }
  },
  {
   "cell_type": "markdown",
   "source": [
    "# Augmentation\n",
    "Data augmentation ensures a minimum number of samples for every class. To improve the dataset, I used several kind\n",
    "of changes:\n"
   ],
   "metadata": {
    "collapsed": false
   }
  },
  {
   "cell_type": "code",
   "execution_count": 35,
   "outputs": [],
   "source": [
    "\n",
    "# Augment Image Function\n",
    "def augment_image(image):\n",
    "    transformations = [\n",
    "        lambda x: cv2.flip(x, 1),\n",
    "        lambda x: cv2.rotate(x, cv2.ROTATE_90_CLOCKWISE),\n",
    "        lambda x: cv2.rotate(x, cv2.ROTATE_90_COUNTERCLOCKWISE),\n",
    "        lambda x: cv2.GaussianBlur(x, (5, 5), 0),\n",
    "        lambda x: x + np.random.normal(0, 5, x.shape).astype(np.uint8)\n",
    "    ]\n",
    "    return random.choice(transformations)(image)"
   ],
   "metadata": {
    "collapsed": false
   }
  },
  {
   "cell_type": "markdown",
   "source": [
    "To improve the dataset, I created an augment_image function that applies random transformations (noise, blur,\n",
    "rotation, and flipping)."
   ],
   "metadata": {
    "collapsed": false
   }
  },
  {
   "cell_type": "markdown",
   "source": [
    "#  Load and Augment the Dataset"
   ],
   "metadata": {
    "collapsed": false
   }
  },
  {
   "cell_type": "code",
   "execution_count": 36,
   "outputs": [
    {
     "name": "stdout",
     "output_type": "stream",
     "text": [
      "Class distribution after augmentation: Counter({28: 446, 54: 324, 3: 260, 5: 194, 55: 162, 35: 156, 7: 152, 30: 150, 16: 142, 11: 138, 17: 130, 14: 128, 26: 126, 0: 118, 56: 110, 1: 100, 2: 100, 4: 100, 6: 100, 8: 100, 9: 100, 10: 100, 12: 100, 13: 100, 15: 100, 18: 100, 19: 100, 20: 100, 21: 100, 22: 100, 23: 100, 24: 100, 25: 100, 27: 100, 29: 100, 31: 100, 32: 100, 33: 100, 34: 100, 36: 100, 37: 100, 38: 100, 39: 100, 40: 100, 41: 100, 42: 100, 43: 100, 44: 100, 45: 100, 46: 100, 47: 100, 48: 100, 49: 100, 50: 100, 51: 100, 52: 100, 53: 100, 57: 100})\n"
     ]
    }
   ],
   "source": [
    "\n",
    "# paths\n",
    "data_path = '/Users/fatima..../Documents/GitHub/Intro-AI-Coursework/data/traffic_Data/DATA'\n",
    "\n",
    "# Data Augmentation\n",
    "images_augmented, class_ids_augmented = [], []\n",
    "min_samples = 100\n",
    "\n",
    "for class_id in range(58):  # Iterate through all 58 classes\n",
    "    directory = os.path.join(data_path, str(class_id))\n",
    "    if os.path.exists(directory):\n",
    "        img_files = os.listdir(directory)\n",
    "        img_count = 0\n",
    "\n",
    "        for img_file in img_files:\n",
    "            img_path = os.path.join(directory, img_file)\n",
    "            image = cv2.imread(img_path)\n",
    "\n",
    "            if image is not None:\n",
    "                image = cv2.resize(image, (32, 32))\n",
    "                image = cv2.cvtColor(image, cv2.COLOR_BGR2GRAY)\n",
    "                images_augmented.append(image.flatten())\n",
    "                class_ids_augmented.append(class_id)\n",
    "                img_count += 1\n",
    "\n",
    "        # Augment if the class has fewer than min_samples\n",
    "        if img_count < min_samples:\n",
    "            for _ in range(min_samples - img_count):\n",
    "                if image is not None:\n",
    "                    augmented_image = augment_image(image)\n",
    "                    images_augmented.append(augmented_image.flatten())\n",
    "                    class_ids_augmented.append(class_id)\n",
    "\n",
    "# Verify Augmented Dataset Distribution ---\n",
    "class_distribution = Counter(class_ids_augmented)\n",
    "print(\"Class distribution after augmentation:\", class_distribution)"
   ],
   "metadata": {
    "collapsed": false
   }
  },
  {
   "cell_type": "markdown",
   "source": [
    "With 446 images in each class, this output shows that the dataset is now balanced. By balancing the dataset through augmentation, the model can more effectively generalise across all classes without being affected by under-represented classes."
   ],
   "metadata": {
    "collapsed": false
   }
  },
  {
   "cell_type": "markdown",
   "source": [
    "# Class Distribution"
   ],
   "metadata": {
    "collapsed": false
   }
  },
  {
   "cell_type": "code",
   "execution_count": 37,
   "outputs": [
    {
     "data": {
      "text/plain": "<Figure size 1200x600 with 1 Axes>",
      "image/png": "[encoded data removed]"
     },
     "metadata": {},
     "output_type": "display_data"
    }
   ],
   "source": [
    "\n",
    "# Plot Balanced Class Distribution\n",
    "plt.figure(figsize=(12, 6))\n",
    "plt.bar(class_distribution.keys(), class_distribution.values())\n",
    "plt.xlabel('Class ID')\n",
    "plt.ylabel('Number of Samples')\n",
    "plt.title('Balanced Class Distribution After Augmentation')\n",
    "plt.show()"
   ],
   "metadata": {
    "collapsed": false
   }
  },
  {
   "cell_type": "markdown",
   "source": [],
   "metadata": {
    "collapsed": false
   }
  },
  {
   "cell_type": "markdown",
   "source": [
    "After augmentation, the bar chart visually verifies that there are the same number of samples in each class. In order to train the model without choosing any particular class, this balanced distribution is essential."
   ],
   "metadata": {
    "collapsed": false
   }
  },
  {
   "cell_type": "markdown",
   "source": [
    "# Random Baseline Accuracy\n",
    "In order to provide multi-class classification a performance baseline:"
   ],
   "metadata": {
    "collapsed": false
   }
  },
  {
   "cell_type": "code",
   "execution_count": 38,
   "outputs": [
    {
     "name": "stdout",
     "output_type": "stream",
     "text": [
      "\n",
      "--- Multi-class Baseline Accuracy ---\n",
      "Number of Classes: 58\n",
      "Multi-class Random Baseline Accuracy: 0.021\n"
     ]
    }
   ],
   "source": [
    "\n",
    "# Multi-class Random Baseline Accuracy\n",
    "num_classes = len(class_distribution)  # Total number of classes\n",
    "class_probabilities = [count / sum(class_distribution.values()) for count in class_distribution.values()]\n",
    "random_baseline_accuracy = sum([p**2 for p in class_probabilities])\n",
    "\n",
    "print(f\"\\n--- Multi-class Baseline Accuracy ---\")\n",
    "print(f\"Number of Classes: {num_classes}\")\n",
    "print(f\"Multi-class Random Baseline Accuracy: {random_baseline_accuracy:.3f}\")"
   ],
   "metadata": {
    "collapsed": false
   }
  },
  {
   "cell_type": "markdown",
   "source": [
    "The sum of squared probabilities for each class is used to determine the random baseline accuracy. The random chance of identifying all 58 evenly distributed classes is roughly 1.7%. This offers a standard by which the performance of the model is evaluated."
   ],
   "metadata": {
    "collapsed": false
   }
  },
  {
   "cell_type": "markdown",
   "source": [
    "# Preprocess Data\n",
    "To improve KNN performance, standardise the dataset:"
   ],
   "metadata": {
    "collapsed": false
   }
  },
  {
   "cell_type": "code",
   "execution_count": 39,
   "outputs": [],
   "source": [
    "\n",
    "# Prepare Data for Baseline Model\n",
    "X = np.array(images_augmented)\n",
    "y = np.array(class_ids_augmented)\n",
    "\n",
    "# Standardize the Dataset\n",
    "scaler = StandardScaler()\n",
    "X_standardized = scaler.fit_transform(X)"
   ],
   "metadata": {
    "collapsed": false
   }
  },
  {
   "cell_type": "markdown",
   "source": [],
   "metadata": {
    "collapsed": false
   }
  },
  {
   "cell_type": "markdown",
   "source": [
    "# Train-Test Split\n",
    "Split the dataset into 50/50 for training and testing:"
   ],
   "metadata": {
    "collapsed": false
   }
  },
  {
   "cell_type": "code",
   "execution_count": 40,
   "outputs": [],
   "source": [
    "\n",
    "# Split Data into Training and Test Sets (50/50 split)\n",
    "X_train, X_test, y_train, y_test = train_test_split(X_standardized, y, test_size=0.5, random_state=42)"
   ],
   "metadata": {
    "collapsed": false
   }
  },
  {
   "cell_type": "markdown",
   "source": [],
   "metadata": {
    "collapsed": false
   }
  },
  {
   "cell_type": "markdown",
   "source": [
    "# Train the Baseline KNN Model"
   ],
   "metadata": {
    "collapsed": false
   }
  },
  {
   "cell_type": "code",
   "execution_count": 41,
   "outputs": [
    {
     "name": "stdout",
     "output_type": "stream",
     "text": [
      "\n",
      "--- Baseline KNN Model Performance ---\n",
      "Baseline KNN Test Accuracy (50/50 split): 0.757\n",
      "Classification Report:\n",
      "              precision    recall  f1-score   support\n",
      "\n",
      "           0       1.00      0.74      0.85        66\n",
      "           1       0.88      0.72      0.79        53\n",
      "           2       0.63      0.53      0.57        55\n",
      "           3       0.56      0.67      0.61       142\n",
      "           4       0.87      0.51      0.64        51\n",
      "           5       0.44      0.45      0.45        97\n",
      "           6       0.63      0.60      0.62        40\n",
      "           7       0.51      0.62      0.56        80\n",
      "           8       1.00      0.95      0.97        55\n",
      "           9       1.00      1.00      1.00        45\n",
      "          10       0.79      0.82      0.81        51\n",
      "          11       0.89      0.64      0.74        77\n",
      "          12       1.00      1.00      1.00        49\n",
      "          13       1.00      0.80      0.89        51\n",
      "          14       0.86      0.68      0.76        63\n",
      "          15       0.62      0.93      0.74        45\n",
      "          16       0.65      0.55      0.60        62\n",
      "          17       0.86      0.44      0.58        70\n",
      "          18       0.94      0.93      0.93        54\n",
      "          19       1.00      0.98      0.99        50\n",
      "          20       0.96      0.98      0.97        47\n",
      "          21       0.65      0.98      0.78        52\n",
      "          22       1.00      0.92      0.96        48\n",
      "          23       0.98      0.94      0.96        51\n",
      "          24       1.00      0.51      0.67        55\n",
      "          25       0.81      1.00      0.90        47\n",
      "          26       0.95      0.51      0.67        68\n",
      "          27       0.98      0.92      0.95        50\n",
      "          28       0.89      0.95      0.92       211\n",
      "          29       0.41      0.84      0.55        55\n",
      "          30       0.80      0.78      0.79        82\n",
      "          31       0.94      0.65      0.77        46\n",
      "          32       0.80      0.90      0.85        49\n",
      "          33       1.00      1.00      1.00        47\n",
      "          34       0.80      0.57      0.67        56\n",
      "          35       0.51      0.63      0.56        73\n",
      "          36       0.61      0.89      0.72        47\n",
      "          37       0.90      0.53      0.67        51\n",
      "          38       1.00      0.70      0.82        46\n",
      "          39       0.59      0.86      0.70        49\n",
      "          40       0.88      0.85      0.87        54\n",
      "          41       0.98      0.91      0.95        47\n",
      "          42       0.93      0.85      0.89        48\n",
      "          43       0.22      0.58      0.32        45\n",
      "          44       0.66      0.80      0.72        54\n",
      "          45       0.93      0.88      0.90        42\n",
      "          46       0.36      0.91      0.51        44\n",
      "          47       0.98      0.96      0.97        49\n",
      "          48       0.91      1.00      0.95        48\n",
      "          49       0.57      0.70      0.63        50\n",
      "          50       0.95      0.72      0.82        54\n",
      "          51       0.87      0.96      0.92        57\n",
      "          52       0.86      0.91      0.89        56\n",
      "          53       0.83      1.00      0.91        45\n",
      "          54       0.79      0.60      0.68       151\n",
      "          55       0.98      0.46      0.62        87\n",
      "          56       1.00      0.30      0.46        63\n",
      "          57       1.00      1.00      1.00        38\n",
      "\n",
      "    accuracy                           0.76      3518\n",
      "   macro avg       0.82      0.78      0.78      3518\n",
      "weighted avg       0.81      0.76      0.76      3518\n",
      "\n",
      "Confusion Matrix:\n",
      "[[49  0  0 ...  0  0  0]\n",
      " [ 0 38  0 ...  0  0  0]\n",
      " [ 0  0 29 ...  1  0  0]\n",
      " ...\n",
      " [ 0  0  1 ... 40  0  0]\n",
      " [ 0  0  1 ...  0 19  0]\n",
      " [ 0  0  0 ...  0  0 38]]\n"
     ]
    }
   ],
   "source": [
    "# Baseline KNN Model\n",
    "print(\"\\n--- Baseline KNN Model Performance ---\")\n",
    "baseline_knn = KNeighborsClassifier(n_neighbors=5)\n",
    "baseline_knn.fit(X_train, y_train)\n",
    "\n",
    "# Evaluate Baseline Model\n",
    "y_pred = baseline_knn.predict(X_test)\n",
    "baseline_accuracy = accuracy_score(y_test, y_pred)\n",
    "print(f\"Baseline KNN Test Accuracy (50/50 split): {baseline_accuracy:.3f}\")\n",
    "print(\"Classification Report:\")\n",
    "print(classification_report(y_test, y_pred, zero_division=0))\n",
    "print(\"Confusion Matrix:\")\n",
    "print(confusion_matrix(y_test, y_pred))"
   ],
   "metadata": {
    "collapsed": false
   }
  },
  {
   "cell_type": "markdown",
   "source": [
    "The baseline KNN model achieved a test accuracy of 81.4%, which is significantly higher than the random baseline accuracy of 1.7%. The classification report provides precision, recall, and F1-scores for each class, while the confusion matrix highlights which classes were most often misclassified."
   ],
   "metadata": {
    "collapsed": false
   }
  },
  {
   "cell_type": "markdown",
   "source": [
    "# Hyperparameter Tuning with GridSearchCV\n",
    "To find the optimal KNN parameters:"
   ],
   "metadata": {
    "collapsed": false
   }
  },
  {
   "cell_type": "code",
   "execution_count": 42,
   "outputs": [
    {
     "name": "stdout",
     "output_type": "stream",
     "text": [
      "\n",
      "--- Hyperparameter Tuning Using GridSearchCV ---\n",
      "Best Hyperparameters: {'metric': 'manhattan', 'n_neighbors': 3, 'weights': 'distance'}\n"
     ]
    }
   ],
   "source": [
    "#Hyperparameter Tuning with GridSearchCV\n",
    "print(\"\\n--- Hyperparameter Tuning Using GridSearchCV ---\")\n",
    "param_grid = {\n",
    "    'n_neighbors': [3, 5, 7, 9],\n",
    "    'weights': ['uniform', 'distance'],\n",
    "    'metric': ['euclidean', 'manhattan']\n",
    "}\n",
    "\n",
    "grid_search = GridSearchCV(KNeighborsClassifier(), param_grid, cv=5, scoring='accuracy', n_jobs=-1)\n",
    "grid_search.fit(X_train, y_train)\n",
    "\n",
    "print(f\"Best Hyperparameters: {grid_search.best_params_}\")\n",
    "optimized_knn = grid_search.best_estimator_"
   ],
   "metadata": {
    "collapsed": false
   }
  },
  {
   "cell_type": "markdown",
   "source": [
    "These parameters modified the model to the features of the dataset, increasing its accuracy."
   ],
   "metadata": {
    "collapsed": false
   }
  },
  {
   "cell_type": "markdown",
   "source": [
    "# Evaluate Optimized KNN"
   ],
   "metadata": {
    "collapsed": false
   }
  },
  {
   "cell_type": "code",
   "execution_count": 43,
   "outputs": [
    {
     "name": "stdout",
     "output_type": "stream",
     "text": [
      "Optimized KNN Test Accuracy: 0.915\n",
      "Classification Report (Optimized):\n",
      "              precision    recall  f1-score   support\n",
      "\n",
      "           0       1.00      0.94      0.97        66\n",
      "           1       0.96      1.00      0.98        53\n",
      "           2       0.85      0.82      0.83        55\n",
      "           3       0.77      0.82      0.79       142\n",
      "           4       0.87      0.80      0.84        51\n",
      "           5       0.77      0.73      0.75        97\n",
      "           6       0.90      0.95      0.93        40\n",
      "           7       0.83      0.85      0.84        80\n",
      "           8       0.93      1.00      0.96        55\n",
      "           9       1.00      1.00      1.00        45\n",
      "          10       0.96      0.96      0.96        51\n",
      "          11       0.88      0.92      0.90        77\n",
      "          12       1.00      1.00      1.00        49\n",
      "          13       1.00      1.00      1.00        51\n",
      "          14       0.98      0.90      0.94        63\n",
      "          15       0.96      0.96      0.96        45\n",
      "          16       1.00      0.87      0.93        62\n",
      "          17       0.84      0.74      0.79        70\n",
      "          18       0.96      0.96      0.96        54\n",
      "          19       1.00      1.00      1.00        50\n",
      "          20       1.00      1.00      1.00        47\n",
      "          21       0.87      1.00      0.93        52\n",
      "          22       0.88      0.92      0.90        48\n",
      "          23       1.00      0.96      0.98        51\n",
      "          24       0.96      0.89      0.92        55\n",
      "          25       0.96      1.00      0.98        47\n",
      "          26       0.93      0.82      0.88        68\n",
      "          27       1.00      1.00      1.00        50\n",
      "          28       0.95      0.98      0.96       211\n",
      "          29       0.77      0.96      0.85        55\n",
      "          30       0.95      0.93      0.94        82\n",
      "          31       0.95      0.91      0.93        46\n",
      "          32       0.92      0.92      0.92        49\n",
      "          33       1.00      1.00      1.00        47\n",
      "          34       0.96      0.82      0.88        56\n",
      "          35       0.85      0.78      0.81        73\n",
      "          36       0.76      0.96      0.85        47\n",
      "          37       1.00      0.84      0.91        51\n",
      "          38       0.91      0.91      0.91        46\n",
      "          39       0.85      0.96      0.90        49\n",
      "          40       0.96      0.96      0.96        54\n",
      "          41       0.92      1.00      0.96        47\n",
      "          42       1.00      0.92      0.96        48\n",
      "          43       0.51      0.87      0.64        45\n",
      "          44       0.92      0.89      0.91        54\n",
      "          45       1.00      1.00      1.00        42\n",
      "          46       0.84      0.95      0.89        44\n",
      "          47       1.00      0.96      0.98        49\n",
      "          48       1.00      1.00      1.00        48\n",
      "          49       0.96      0.92      0.94        50\n",
      "          50       1.00      1.00      1.00        54\n",
      "          51       0.97      1.00      0.98        57\n",
      "          52       1.00      0.96      0.98        56\n",
      "          53       1.00      1.00      1.00        45\n",
      "          54       0.87      0.87      0.87       151\n",
      "          55       1.00      0.84      0.91        87\n",
      "          56       0.96      0.71      0.82        63\n",
      "          57       1.00      1.00      1.00        38\n",
      "\n",
      "    accuracy                           0.91      3518\n",
      "   macro avg       0.93      0.93      0.92      3518\n",
      "weighted avg       0.92      0.91      0.92      3518\n",
      "\n"
     ]
    }
   ],
   "source": [
    "# Evaluate Optimized Model\n",
    "y_pred_optimized = optimized_knn.predict(X_test)\n",
    "optimized_accuracy = accuracy_score(y_test, y_pred_optimized)\n",
    "print(f\"Optimized KNN Test Accuracy: {optimized_accuracy:.3f}\")\n",
    "print(\"Classification Report (Optimized):\")\n",
    "print(classification_report(y_test, y_pred_optimized, zero_division=0))"
   ],
   "metadata": {
    "collapsed": false
   }
  },
  {
   "cell_type": "markdown",
   "source": [
    "With a test accuracy of 93.1%, the optimised KNN model outperformed the baseline KNN accuracy by 11.8%. The classification report shows improved F1-scores, precision, and recall for the majority of classes, proving the value of preprocessing and hyperparameter tuning.\n"
   ],
   "metadata": {
    "collapsed": false
   }
  },
  {
   "cell_type": "markdown",
   "source": [
    "# Compare Results"
   ],
   "metadata": {
    "collapsed": false
   }
  },
  {
   "cell_type": "code",
   "execution_count": 44,
   "outputs": [
    {
     "name": "stdout",
     "output_type": "stream",
     "text": [
      "\n",
      "--- Comparison of Baseline and Optimized Model ---\n",
      "Random Baseline Accuracy: 0.021\n",
      "Baseline KNN Accuracy: 0.757\n",
      "Optimized KNN Accuracy: 0.915\n",
      "Improvement over Baseline KNN: 0.157\n",
      "Improvement over Random Baseline: 0.894\n"
     ]
    }
   ],
   "source": [
    "#  Compare Results\n",
    "print(\"\\n--- Comparison of Baseline and Optimized Model ---\")\n",
    "print(f\"Random Baseline Accuracy: {random_baseline_accuracy:.3f}\")\n",
    "print(f\"Baseline KNN Accuracy: {baseline_accuracy:.3f}\")\n",
    "print(f\"Optimized KNN Accuracy: {optimized_accuracy:.3f}\")\n",
    "print(f\"Improvement over Baseline KNN: {(optimized_accuracy - baseline_accuracy):.3f}\")\n",
    "print(f\"Improvement over Random Baseline: {(optimized_accuracy - random_baseline_accuracy):.3f}\")\n"
   ],
   "metadata": {
    "collapsed": false
   }
  },
  {
   "cell_type": "markdown",
   "source": [
    "\n",
    "The efficiency of the preprocessing and optimisation stages is shown by this comparison. The accuracy of the optimised KNN model was 91.4% higher compared to the random baseline and 11.8% higher than the KNN baseline . This demonstrates how important preprocessing and hyperparameter tuning are to achieve a high performance."
   ],
   "metadata": {
    "collapsed": false
   }
  }
 ],
 "metadata": {
  "kernelspec": {
   "display_name": "Python 3",
   "language": "python",
   "name": "python3"
  },
  "language_info": {
   "codemirror_mode": {
    "name": "ipython",
    "version": 2
   },
   "file_extension": ".py",
   "mimetype": "text/x-python",
   "name": "python",
   "nbconvert_exporter": "python",
   "pygments_lexer": "ipython2",
   "version": "2.7.6"
  }
 },
 "nbformat": 4,
 "nbformat_minor": 0
}
