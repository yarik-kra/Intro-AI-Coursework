{
 "cells": [
  {
   "cell_type": "markdown",
   "source": [
    "# Traffic Sign Classification Using KNN\n",
    "\n",
    "I created a K-Nearest Neighbours (KNN) model for this project in order to group traffic signs into the right groups.  In order to improve the model's effectiveness and efficiency, the goal was to find out how well KNN handled image data while tackling problems like class imbalance and dimensionality reduction. Here is an overview of the actions I took, along with an explanation of my results, observations, and possible areas for improvement."
   ],
   "metadata": {
    "collapsed": false
   }
  },
  {
   "cell_type": "markdown",
   "source": [
    "# Import Libraries\n",
    "\n",
    "These libraries simplify complex tasks like image preprocessing, machine learning, and evaluation."
   ],
   "metadata": {
    "collapsed": false
   }
  },
  {
   "cell_type": "code",
   "execution_count": 268,
   "outputs": [],
   "source": [
    "import os\n",
    "import cv2\n",
    "import numpy as np\n",
    "import pandas as pd\n",
    "from sklearn.preprocessing import StandardScaler\n",
    "from sklearn.decomposition import PCA\n",
    "from sklearn.model_selection import train_test_split\n",
    "from sklearn.neighbors import KNeighborsClassifier\n",
    "from sklearn.metrics import accuracy_score, classification_report, confusion_matrix\n",
    "import matplotlib.pyplot as plt"
   ],
   "metadata": {
    "collapsed": false
   }
  },
  {
   "cell_type": "markdown",
   "source": [
    "# Loading and Processing Data\n",
    "The traffic sign images are loaded, and the number of samples in each class is counted.It helps in finding differences between classes. For instance, certain classes may have fewer images than others.You can design methods like data augmentation for unrepresented classes by showing class distributions."
   ],
   "metadata": {
    "collapsed": false
   }
  },
  {
   "cell_type": "code",
   "execution_count": 269,
   "outputs": [
    {
     "data": {
      "text/plain": "<Figure size 1000x600 with 1 Axes>",
      "image/png": "[encoded data removed]"
     },
     "metadata": {},
     "output_type": "display_data"
    }
   ],
   "source": [
    "data_path = '/Users/fatima..../Documents/GitHub/Intro-AI-Coursework/data/traffic_Data/DATA'\n",
    "test_path = '/Users/fatima..../Documents/GitHub/Intro-AI-Coursework/data/traffic_Data/TEST'\n",
    "labels_path = '/Users/fatima..../Documents/GitHub/Intro-AI-Coursework/data/labels.csv'\n",
    "\n",
    "labels = pd.read_csv(labels_path)\n",
    "class_image_counts = {}\n",
    "for class_id in range(58):\n",
    "    directory = os.path.join(data_path, str(class_id))\n",
    "    if os.path.exists(directory):\n",
    "        class_image_counts[class_id] = len(os.listdir(directory))\n",
    "plt.figure(figsize=(10, 6))\n",
    "plt.bar(class_image_counts.keys(), class_image_counts.values())\n",
    "plt.xlabel('Class ID')\n",
    "plt.ylabel('Number of Images')\n",
    "plt.title('Number of Images in Each Class')\n",
    "plt.show()"
   ],
   "metadata": {
    "collapsed": false
   }
  },
  {
   "cell_type": "markdown",
   "source": [],
   "metadata": {
    "collapsed": false
   }
  },
  {
   "cell_type": "markdown",
   "source": [
    "With some classes having more than 200 photos and others having fewer than 10, the bar chart showed an obvious class imbalance. The overall accuracy might decrease as a result of the model choosing classes with more examples because of this imbalance."
   ],
   "metadata": {
    "collapsed": false
   }
  },
  {
   "cell_type": "markdown",
   "source": [
    "# Handling Class Imbalance\n",
    "I duplicated images for classes with fewer than 10 samples and limited the number of samples per class to 100 in order to fix the imbalance in the class.  The goal of this modification was to achieve the greatest possible balance in the distribution of the data.\n"
   ],
   "metadata": {
    "collapsed": false
   }
  },
  {
   "cell_type": "code",
   "execution_count": 270,
   "outputs": [],
   "source": [
    "images, class_ids = [], []\n",
    "max_samples = 100\n",
    "min_samples = 10\n",
    "for class_id in range(58):\n",
    "    directory = os.path.join(data_path, str(class_id))\n",
    "    if os.path.exists(directory):\n",
    "        img_files = os.listdir(directory)\n",
    "        img_count = 0\n",
    "        for img_file in img_files:\n",
    "            if img_count < max_samples:\n",
    "                img_path = os.path.join(directory, img_file)\n",
    "                image = cv2.imread(img_path)\n",
    "                image = cv2.resize(image, (32, 32))\n",
    "                image = cv2.cvtColor(image, cv2.COLOR_BGR2GRAY)\n",
    "                images.append(image.flatten())\n",
    "                class_ids.append(class_id)\n",
    "                img_count += 1\n",
    "        if img_count < min_samples:\n",
    "            for i in range(min_samples - img_count):\n",
    "                images.append(image.flatten())\n",
    "                class_ids.append(class_id)\n"
   ],
   "metadata": {
    "collapsed": false
   }
  },
  {
   "cell_type": "markdown",
   "source": [],
   "metadata": {
    "collapsed": false
   }
  },
  {
   "cell_type": "markdown",
   "source": [
    "# Data Augmentation\n",
    "This code creates new images for classes with fewer samples by applying transformations like flipping, rotating, and noise.By balancing classes, the model avoids showing bias in towards overexposed classes.The training data becomes more diverse, and improves generalisation."
   ],
   "metadata": {
    "collapsed": false
   }
  },
  {
   "cell_type": "code",
   "execution_count": 271,
   "outputs": [],
   "source": [
    "# Data augmentation\n",
    "from collections import Counter\n",
    "import random\n",
    "\n",
    "# Augment classes with fewer than 100 samples\n",
    "def augment_image(image):\n",
    "    transformations = [\n",
    "        lambda x: cv2.flip(x, 1),\n",
    "        lambda x: cv2.rotate(x, cv2.ROTATE_90_CLOCKWISE),\n",
    "        lambda x: cv2.rotate(x, cv2.ROTATE_90_COUNTERCLOCKWISE),\n",
    "        lambda x: cv2.GaussianBlur(x, (5, 5), 0),\n",
    "        lambda x: x + np.random.normal(0, 5, x.shape).astype(np.uint8)\n",
    "    ]\n",
    "    return random.choice(transformations)(image)"
   ],
   "metadata": {
    "collapsed": false
   }
  },
  {
   "cell_type": "markdown",
   "source": [],
   "metadata": {
    "collapsed": false
   }
  },
  {
   "cell_type": "markdown",
   "source": [
    "# Balance Dataset\n",
    "By using augmentation on classes with fewer samples, it ensures that each class has at least 100 samples. Fair training and improved performance across all classes are certain when the dataset is balanced."
   ],
   "metadata": {
    "collapsed": false
   }
  },
  {
   "cell_type": "code",
   "execution_count": 272,
   "outputs": [
    {
     "name": "stdout",
     "output_type": "stream",
     "text": [
      "Class distribution after augmentation: Counter({28: 446, 54: 324, 3: 260, 5: 194, 55: 162, 35: 156, 7: 152, 30: 150, 16: 142, 11: 138, 17: 130, 14: 128, 26: 126, 0: 118, 56: 110, 1: 100, 2: 100, 4: 100, 6: 100, 8: 100, 9: 100, 10: 100, 12: 100, 13: 100, 15: 100, 18: 100, 19: 100, 20: 100, 21: 100, 22: 100, 23: 100, 24: 100, 25: 100, 27: 100, 29: 100, 31: 100, 32: 100, 33: 100, 34: 100, 36: 100, 37: 100, 38: 100, 39: 100, 40: 100, 41: 100, 42: 100, 43: 100, 44: 100, 45: 100, 46: 100, 47: 100, 48: 100, 49: 100, 50: 100, 51: 100, 52: 100, 53: 100, 57: 100})\n"
     ]
    }
   ],
   "source": [
    "# Augment dataset\n",
    "images_augmented, class_ids_augmented = [], []\n",
    "min_samples = 100\n",
    "for class_id in range(58):\n",
    "    directory = os.path.join(data_path, str(class_id))\n",
    "    if os.path.exists(directory):\n",
    "        img_files = os.listdir(directory)\n",
    "        img_count = len(img_files)\n",
    "        for img_file in img_files:\n",
    "            img_path = os.path.join(directory, img_file)\n",
    "            image = cv2.imread(img_path)\n",
    "            if image is not None:\n",
    "                image = cv2.resize(image, (32, 32))\n",
    "                image = cv2.cvtColor(image, cv2.COLOR_BGR2GRAY)\n",
    "                images_augmented.append(image.flatten())\n",
    "                class_ids_augmented.append(class_id)\n",
    "        if img_count < min_samples:\n",
    "            for _ in range(min_samples - img_count):\n",
    "                augmented_image = augment_image(image)\n",
    "                images_augmented.append(augmented_image.flatten())\n",
    "                class_ids_augmented.append(class_id)\n",
    "\n",
    "\n",
    "# Convert augmented data to numpy arrays\n",
    "X_augmented = np.array(images_augmented)\n",
    "y_augmented = np.array(class_ids_augmented)\n",
    "\n",
    "# Check class distribution after augmentation\n",
    "augmented_class_distribution = Counter(y_augmented)\n",
    "print(\"Class distribution after augmentation:\", augmented_class_distribution)"
   ],
   "metadata": {
    "collapsed": false
   }
  },
  {
   "cell_type": "markdown",
   "source": [
    "The augmented_class_distribution output confirms that all classes now have at least 100 samples, addressing the class imbalances."
   ],
   "metadata": {
    "collapsed": false
   }
  },
  {
   "cell_type": "markdown",
   "source": [
    "# Scaling Features and Reducing Dimensionality\n",
    "Once the dataset had been loaded and balanced, I adjusted the photos to have an equal variation and a zero mean. This is crucial for KNN since it depends on distance calculations, which might be affected by irregular feature scales.\n",
    "\n",
    "I then used Principal Component Analysis (PCA) to lower the number of variables.  I chose 350 key variables since they represented a majority of the variation, according to the cumulative variance plot."
   ],
   "metadata": {
    "collapsed": false
   }
  },
  {
   "cell_type": "code",
   "execution_count": 273,
   "outputs": [
    {
     "data": {
      "text/plain": "<Figure size 640x480 with 1 Axes>",
      "image/png": "[encoded data removed]"
     },
     "metadata": {},
     "output_type": "display_data"
    }
   ],
   "source": [
    "# Convert to numpy arrays\n",
    "X = np.array(images)\n",
    "y = np.array(class_ids)\n",
    "\n",
    "scaler = StandardScaler()\n",
    "X_scaled = scaler.fit_transform(X_augmented)\n",
    "pca = PCA(n_components=350)\n",
    "X_pca = pca.fit_transform(X_scaled)\n",
    "\n",
    "\n",
    "pca_test = PCA().fit(X_scaled)\n",
    "plt.plot(np.cumsum(pca_test.explained_variance_ratio_))\n",
    "plt.xlabel('Number of components')\n",
    "plt.ylabel('Cumulative explained variance')\n",
    "plt.title('PCA Cumulative Variance')\n",
    "plt.show()"
   ],
   "metadata": {
    "collapsed": false
   }
  },
  {
   "cell_type": "markdown",
   "source": [
    "First, I noticed that the cumulative variance increases rapidly.  This indicates that a significant amount of the dataset's information is captured by the first few components. In other words, the first components capture the most significant features (or patterns) in the data.\n",
    "\n",
    "The curve levels off after about 350 components, indicates that adding more components beyond this point does not significantly increase the explained variance. We have now recorded almost all the significant variance, as the curve has essentially stopped.\n",
    "\n",
    "I chose 350 components because they make up more than 95% of the dataset’s variance. This suggests that I'm keeping most of the key information while drastically reducing the data's dimensionality, which is necessary to increase the model's efficiency without sacrificing important information.\n",
    "\n",
    "The KNN model works more quickly and effectively when the dataset is reduced to 350 dimensions, Without losing\n",
    "reliability, this method should improve the model's performance.\n"
   ],
   "metadata": {
    "collapsed": false
   }
  },
  {
   "cell_type": "markdown",
   "source": [
    "# Data Splitting and KNN Model Training\n",
    "Almost all the dataset was used for training, while the rest was used for validation. After that, I changed the number of neighbours (k) to seven and used distance-based weighting to give closer neighbours a greater impact when defining and training a KNN model."
   ],
   "metadata": {
    "collapsed": false
   }
  },
  {
   "cell_type": "code",
   "execution_count": 274,
   "outputs": [],
   "source": [
    "# Split Data into Training and Validation Sets\n",
    "X_train, X_val, y_train, y_val = train_test_split(X_pca, y_augmented, test_size=0.2, random_state=42)\n",
    "\n",
    "# Initialize and Train the KNN Model\n",
    "k = 7\n",
    "knn = KNeighborsClassifier(n_neighbors=k, weights='distance', metric='minkowski', p=2)\n",
    "knn.fit(X_train, y_train);"
   ],
   "metadata": {
    "collapsed": false
   }
  },
  {
   "cell_type": "markdown",
   "source": [
    "I used Euclidean distance (Minkowski distance with p=2), which is a common choice for continuous data, and k = 7\n",
    "was used to balance the model's bias and variance.\n",
    "Accuracy can be increased, particularly in datasets with uneven classes, by ensuring that close to neighbours had greater impact through distance weighting."
   ],
   "metadata": {
    "collapsed": false
   }
  },
  {
   "cell_type": "markdown",
   "source": [
    "# Baseline Model Training\n",
    "A baseline model offers a point to use for comparison.\n",
    "In this case, weights='uniform' and n_neighbors=5 are straightforward default settings."
   ],
   "metadata": {
    "collapsed": false
   }
  },
  {
   "cell_type": "code",
   "execution_count": 275,
   "outputs": [
    {
     "name": "stdout",
     "output_type": "stream",
     "text": [
      "Baseline Training Accuracy: 0.912\n",
      "Baseline Validation Accuracy: 0.865\n"
     ]
    }
   ],
   "source": [
    "# Train Baseline KNN Model\n",
    "baseline_knn = KNeighborsClassifier(n_neighbors=5, weights='uniform', metric='minkowski')\n",
    "baseline_knn.fit(X_train, y_train)\n",
    "\n",
    "# Evaluate Baseline Model\n",
    "baseline_train_acc = baseline_knn.score(X_train, y_train)\n",
    "baseline_val_acc = baseline_knn.score(X_val, y_val)\n",
    "print(f\"Baseline Training Accuracy: {baseline_train_acc:.3f}\")\n",
    "print(f\"Baseline Validation Accuracy: {baseline_val_acc:.3f}\")\n",
    "X_train, X_val, y_train, y_val = train_test_split(X_pca, y_augmented, test_size=0.2, random_state=42)\n"
   ],
   "metadata": {
    "collapsed": false
   }
  },
  {
   "cell_type": "markdown",
   "source": [
    "Although it performs fairly well, the baseline model overfits a little.The use of hyperparameter tuning will improve this."
   ],
   "metadata": {
    "collapsed": false
   }
  },
  {
   "cell_type": "markdown",
   "source": [
    "# Hyperparameter Optimisation\n",
    "\n",
    "The use of GridSearchCV  evaluates combinations of n_neighbors, weights, and metrics to find the best-performing hyperparameters.\n",
    "The optimal hyperparameters discovered before are used in the optimised model.\n",
    "This stage confirms whether performance is enhanced by optimisation."
   ],
   "metadata": {
    "collapsed": false
   }
  },
  {
   "cell_type": "code",
   "execution_count": 276,
   "outputs": [
    {
     "name": "stdout",
     "output_type": "stream",
     "text": [
      "Best Parameters: {'metric': 'minkowski', 'n_neighbors': 3, 'weights': 'distance'}\n",
      "Best Cross-Validation Accuracy: 0.936\n",
      "Optimised Training Accuracy: 1.000\n",
      "Optimised Validation Accuracy: 0.969\n"
     ]
    }
   ],
   "source": [
    "from sklearn.model_selection import GridSearchCV\n",
    "\n",
    "# Define Hyperparameter Grid\n",
    "param_grid = {\n",
    "    'n_neighbors': [3, 5, 7, 9],\n",
    "    'weights': ['uniform', 'distance'],\n",
    "    'metric': ['minkowski', 'manhattan']\n",
    "}\n",
    "\n",
    "# Initialize GridSearchCV\n",
    "grid_search = GridSearchCV(KNeighborsClassifier(), param_grid, cv=5, scoring='accuracy', n_jobs=-1)\n",
    "grid_search.fit(X_train, y_train)\n",
    "\n",
    "# Output Best Parameters and Accuracy\n",
    "best_params = grid_search.best_params_\n",
    "best_score = grid_search.best_score_\n",
    "print(f\"Best Parameters: {best_params}\")\n",
    "print(f\"Best Cross-Validation Accuracy: {best_score:.3f}\")\n",
    "\n",
    "\n",
    "# Train and Evaluate Optimized Model\n",
    "optimised_knn = KNeighborsClassifier(**best_params)\n",
    "optimised_knn.fit(X_train, y_train)\n",
    "\n",
    "optimised_train_acc = optimised_knn.score(X_train, y_train)\n",
    "optimised_val_acc = optimised_knn.score(X_val, y_val)\n",
    "print(f\"Optimised Training Accuracy: {optimised_train_acc:.3f}\")\n",
    "print(f\"Optimised Validation Accuracy: {optimised_val_acc:.3f}\")"
   ],
   "metadata": {
    "collapsed": false
   }
  },
  {
   "cell_type": "markdown",
   "source": [
    "Better performance results from the optimised settings, which also improve bias and variance.\n",
    "Overfitting is decreased by the optimised model's good generalisation."
   ],
   "metadata": {
    "collapsed": false
   }
  },
  {
   "cell_type": "markdown",
   "source": [
    "# Assessing the Model\n",
    "In order to determine if the model was overfitting or underfitting, I evaluated its accuracy on both the training and validation sets:"
   ],
   "metadata": {
    "collapsed": false
   }
  },
  {
   "cell_type": "code",
   "execution_count": 277,
   "outputs": [
    {
     "name": "stdout",
     "output_type": "stream",
     "text": [
      "Training Accuracy: 1.000\n",
      "Validation Accuracy: 0.963\n"
     ]
    }
   ],
   "source": [
    "train_acc = knn.score(X_train, y_train)\n",
    "val_acc = knn.score(X_val, y_val)\n",
    "print(f\"Training Accuracy: {train_acc:.3f}\")\n",
    "print(f\"Validation Accuracy: {val_acc:.3f}\")"
   ],
   "metadata": {
    "collapsed": false
   }
  },
  {
   "cell_type": "markdown",
   "source": [
    "1. This is usual with KNN on data that is imbalanced, that slightly lower validation accuracy points to some over fitting, but the high training accuracy shows the model fits the training data well.\n",
    "\n",
    "2. Validation Accuracy: 0.874 - although there is an obvious decrease in comparing with the training accuracy, the model fits to unseen data very well, with an accuracy of 87.4% on the validation data set.  This is to be expected as training accuracy is usually higher than validation accuracy."
   ],
   "metadata": {
    "collapsed": false
   }
  },
  {
   "cell_type": "markdown",
   "source": [
    "# Final Testing and Model Performance\n",
    "I handled the test set in the same way using the same scaling and PCA changes in order to evaluate the model's performance on unseen data. I created a confusion matrix, a classification report, and an accuracy calculation after sorting each prediction."
   ],
   "metadata": {
    "collapsed": false
   }
  },
  {
   "cell_type": "code",
   "execution_count": 278,
   "outputs": [
    {
     "name": "stdout",
     "output_type": "stream",
     "text": [
      "Test Accuracy: 0.99\n",
      "Classification Report:\n",
      "              precision    recall  f1-score   support\n",
      "\n",
      "           0       1.00      1.00      1.00       100\n",
      "           1       0.98      1.00      0.99        40\n",
      "           2       1.00      1.00      1.00        80\n",
      "           3       1.00      1.00      1.00       100\n",
      "           4       1.00      0.98      0.99        98\n",
      "           5       0.96      0.97      0.97       100\n",
      "           6       0.97      1.00      0.99        78\n",
      "           7       0.98      0.98      0.98       100\n",
      "           8       1.00      1.00      1.00        10\n",
      "           9       1.00      1.00      1.00        10\n",
      "          10       0.97      0.97      0.97        70\n",
      "          11       0.98      1.00      0.99       100\n",
      "          12       1.00      1.00      1.00        96\n",
      "          13       1.00      1.00      1.00        36\n",
      "          14       1.00      1.00      1.00       100\n",
      "          15       1.00      1.00      1.00        22\n",
      "          16       1.00      0.99      0.99       100\n",
      "          17       0.99      0.99      0.99       100\n",
      "          18       1.00      1.00      1.00        10\n",
      "          19       1.00      1.00      1.00        10\n",
      "          20       1.00      1.00      1.00        18\n",
      "          21       1.00      1.00      1.00        12\n",
      "          22       1.00      1.00      1.00        18\n",
      "          23       1.00      1.00      1.00        14\n",
      "          24       1.00      0.98      0.99       100\n",
      "          25       1.00      1.00      1.00        10\n",
      "          26       1.00      0.97      0.98       100\n",
      "          27       1.00      1.00      1.00        28\n",
      "          28       0.97      1.00      0.99       100\n",
      "          29       0.98      1.00      0.99        44\n",
      "          30       1.00      1.00      1.00       100\n",
      "          31       1.00      0.95      0.98        42\n",
      "          32       1.00      1.00      1.00        14\n",
      "          33       1.00      1.00      1.00        10\n",
      "          34       1.00      1.00      1.00        26\n",
      "          35       1.00      0.98      0.99       100\n",
      "          36       0.98      1.00      0.99        40\n",
      "          37       1.00      0.93      0.96        58\n",
      "          38       0.94      1.00      0.97        30\n",
      "          39       1.00      1.00      1.00        34\n",
      "          40       0.94      0.94      0.94        32\n",
      "          41       1.00      1.00      1.00        18\n",
      "          42       1.00      1.00      1.00        32\n",
      "          43       0.93      1.00      0.96        82\n",
      "          44       0.97      0.93      0.95        30\n",
      "          45       1.00      1.00      1.00        24\n",
      "          46       0.90      1.00      0.95        18\n",
      "          47       1.00      1.00      1.00        12\n",
      "          48       1.00      1.00      1.00        10\n",
      "          49       1.00      0.95      0.98        42\n",
      "          50       1.00      1.00      1.00        56\n",
      "          51       1.00      1.00      1.00        10\n",
      "          52       1.00      1.00      1.00        36\n",
      "          53       1.00      1.00      1.00        10\n",
      "          54       0.98      0.99      0.99       100\n",
      "          55       1.00      0.97      0.98       100\n",
      "          56       1.00      1.00      1.00       100\n",
      "          57       1.00      1.00      1.00        10\n",
      "\n",
      "    accuracy                           0.99      2980\n",
      "   macro avg       0.99      0.99      0.99      2980\n",
      "weighted avg       0.99      0.99      0.99      2980\n",
      "\n"
     ]
    }
   ],
   "source": [
    "# Convert Test Data to Numpy Arrays\n",
    "X_test = np.array(images)\n",
    "y_test = np.array(class_ids)\n",
    "\n",
    "X_test_scaled = scaler.transform(X_test)\n",
    "X_test_pca = pca.transform(X_test_scaled)\n",
    "y_pred = knn.predict(X_test_pca)\n",
    "test_accuracy = accuracy_score(y_test, y_pred)\n",
    "print(f\"Test Accuracy: {test_accuracy:.2f}\")\n",
    "print(\"Classification Report:\")\n",
    "print(classification_report(y_test, y_pred, zero_division=0))\n",
    "\n"
   ],
   "metadata": {
    "collapsed": false
   }
  },
  {
   "cell_type": "markdown",
   "source": [
    "Test Accuracy: 0.99 - 99% This indicates that 99% of the traffic signs in the test dataset were accurately predicted by the model.A high test accuracy means\n",
    "the model does a good job of generalising to new data.\n",
    "\n",
    "Precision: How many of the expected instances of a class were accurate? For most classes, a precision around 1 means there aren't many false positives.\n",
    "Recall: How many of the actual instances of a class were accurately predicted? A high recall indicates that the model is not missing many examples.\n",
    "F1-Score: The trade-off between false positives and false negatives is balanced.\n",
    "Support: The class's total number of true instances.\n",
    "\n",
    "This indicates even for unrepresented classes, the model constantly performs well, as shown from its excellent precision, recall, and F1-score across all classes."
   ],
   "metadata": {
    "collapsed": false
   }
  },
  {
   "cell_type": "markdown",
   "source": [],
   "metadata": {
    "collapsed": false
   }
  }
 ],
 "metadata": {
  "kernelspec": {
   "display_name": "Python 3",
   "language": "python",
   "name": "python3"
  },
  "language_info": {
   "codemirror_mode": {
    "name": "ipython",
    "version": 2
   },
   "file_extension": ".py",
   "mimetype": "text/x-python",
   "name": "python",
   "nbconvert_exporter": "python",
   "pygments_lexer": "ipython2",
   "version": "2.7.6"
  }
 },
 "nbformat": 4,
 "nbformat_minor": 0
}
