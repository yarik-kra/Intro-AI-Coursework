{
 "cells": [
  {
   "cell_type": "markdown",
   "source": [
    "# K-Nearest Neighbors for Traffic Sign Classification\n",
    "In this project, I solved a multi-class image classification problem by implementing a K-Nearest Neighbours (KNN)\n",
    "classifier. Images from 58 different categories of traffic signs represent the dataset. Preprocessing the data,\n",
    "balancing the dataset through augmentation, and using GridSearchCV to maximise model performance were the main\n",
    "tasks."
   ],
   "metadata": {
    "collapsed": false
   }
  },
  {
   "cell_type": "markdown",
   "source": [
    "# Import Libraries\n",
    "Libraries Used:\n",
    "cv2: For reading, resizing, and augmenting images.\n",
    "Numpy: For processing numbers.\n",
    "Matplotlib: For class distribution visualisation.\n",
    "sklearn: For hyperparameter tuning, model evaluation, and training."
   ],
   "metadata": {
    "collapsed": false
   }
  },
  {
   "cell_type": "code",
   "execution_count": null,
   "outputs": [],
   "source": [
    "import os\n",
    "import cv2\n",
    "import numpy as np\n",
    "import matplotlib.pyplot as plt\n",
    "from collections import Counter\n",
    "import random\n",
    "from sklearn.model_selection import train_test_split, GridSearchCV\n",
    "from sklearn.neighbors import KNeighborsClassifier\n",
    "from sklearn.metrics import accuracy_score, classification_report, confusion_matrix\n",
    "from sklearn.preprocessing import StandardScaler\n"
   ],
   "metadata": {
    "collapsed": false
   }
  },
  {
   "cell_type": "markdown",
   "source": [],
   "metadata": {
    "collapsed": false
   }
  },
  {
   "cell_type": "markdown",
   "source": [
    "# Augmentation\n",
    "Data augmentation ensures a minimum number of samples for every class. To improve the dataset, I used several kind\n",
    "of changes:\n"
   ],
   "metadata": {
    "collapsed": false
   }
  },
  {
   "cell_type": "code",
   "execution_count": null,
   "outputs": [],
   "source": [
    "\n",
    "# Augment Image Function\n",
    "def augment_image(image):\n",
    "    transformations = [\n",
    "        lambda x: cv2.flip(x, 1),\n",
    "        lambda x: cv2.rotate(x, cv2.ROTATE_90_CLOCKWISE),\n",
    "        lambda x: cv2.rotate(x, cv2.ROTATE_90_COUNTERCLOCKWISE),\n",
    "        lambda x: cv2.GaussianBlur(x, (5, 5), 0),\n",
    "        lambda x: x + np.random.normal(0, 5, x.shape).astype(np.uint8)\n",
    "    ]\n",
    "    return random.choice(transformations)(image)"
   ],
   "metadata": {
    "collapsed": false
   }
  },
  {
   "cell_type": "markdown",
   "source": [
    "To improve the dataset, I created an augment_image function that applies random transformations (noise, blur,\n",
    "rotation, and flipping)."
   ],
   "metadata": {
    "collapsed": false
   }
  },
  {
   "cell_type": "markdown",
   "source": [
    "#  Load and Augment the Dataset"
   ],
   "metadata": {
    "collapsed": false
   }
  },
  {
   "cell_type": "code",
   "execution_count": null,
   "outputs": [],
   "source": [
    "\n",
    "# paths\n",
    "data_path = '/Users/fatima..../Documents/GitHub/Intro-AI-Coursework/data/traffic_Data/DATA'\n",
    "\n",
    "# Data Augmentation\n",
    "images_augmented, class_ids_augmented = [], []\n",
    "min_samples = 100\n",
    "\n",
    "for class_id in range(58):  # Iterate through all 58 classes\n",
    "    directory = os.path.join(data_path, str(class_id))\n",
    "    if os.path.exists(directory):\n",
    "        img_files = os.listdir(directory)\n",
    "        img_count = 0\n",
    "\n",
    "        for img_file in img_files:\n",
    "            img_path = os.path.join(directory, img_file)\n",
    "            image = cv2.imread(img_path)\n",
    "\n",
    "            if image is not None:\n",
    "                image = cv2.resize(image, (32, 32))\n",
    "                image = cv2.cvtColor(image, cv2.COLOR_BGR2GRAY)\n",
    "                images_augmented.append(image.flatten())\n",
    "                class_ids_augmented.append(class_id)\n",
    "                img_count += 1\n",
    "\n",
    "        # Augment if the class has fewer than min_samples\n",
    "        if img_count < min_samples:\n",
    "            for _ in range(min_samples - img_count):\n",
    "                if image is not None:\n",
    "                    augmented_image = augment_image(image)\n",
    "                    images_augmented.append(augmented_image.flatten())\n",
    "                    class_ids_augmented.append(class_id)\n",
    "\n",
    "# Verify Augmented Dataset Distribution ---\n",
    "class_distribution = Counter(class_ids_augmented)\n",
    "print(\"Class distribution after augmentation:\", class_distribution)"
   ],
   "metadata": {
    "collapsed": false
   }
  },
  {
   "cell_type": "markdown",
   "source": [
    "Every image is converted to greyscale and resized to 32x32 pixels.\n",
    "Augments are used to balance the dataset if a class contains fewer than 100 samples."
   ],
   "metadata": {
    "collapsed": false
   }
  },
  {
   "cell_type": "markdown",
   "source": [
    "# Class Distribution"
   ],
   "metadata": {
    "collapsed": false
   }
  },
  {
   "cell_type": "markdown",
   "source": [
    "# Class Distribution"
   ],
   "metadata": {
    "collapsed": false
   }
  },
  {
   "cell_type": "code",
   "execution_count": null,
   "outputs": [],
   "source": [
    "\n",
    "# Plot Balanced Class Distribution\n",
    "plt.figure(figsize=(12, 6))\n",
    "plt.bar(class_distribution.keys(), class_distribution.values())\n",
    "plt.xlabel('Class ID')\n",
    "plt.ylabel('Number of Samples')\n",
    "plt.title('Balanced Class Distribution After Augmentation')\n",
    "plt.show()"
   ],
   "metadata": {
    "collapsed": false
   }
  },
  {
   "cell_type": "markdown",
   "source": [],
   "metadata": {
    "collapsed": false
   }
  },
  {
   "cell_type": "markdown",
   "source": [
    "# Random Baseline Accuracy\n",
    "In order to provide multi-class classification a performance baseline:"
   ],
   "metadata": {
    "collapsed": false
   }
  },
  {
   "cell_type": "code",
   "execution_count": null,
   "outputs": [],
   "source": [
    "\n",
    "# Multi-class Random Baseline Accuracy\n",
    "num_classes = len(class_distribution)  # Total number of classes\n",
    "class_probabilities = [count / sum(class_distribution.values()) for count in class_distribution.values()]\n",
    "random_baseline_accuracy = sum([p**2 for p in class_probabilities])\n",
    "\n",
    "print(f\"\\n--- Multi-class Baseline Accuracy ---\")\n",
    "print(f\"Number of Classes: {num_classes}\")\n",
    "print(f\"Multi-class Random Baseline Accuracy: {random_baseline_accuracy:.3f}\")"
   ],
   "metadata": {
    "collapsed": false
   }
  },
  {
   "cell_type": "markdown",
   "source": [
    "In multi-class classification, the sum of squared class probabilities is used to determine the random baseline accuracy."
   ],
   "metadata": {
    "collapsed": false
   }
  },
  {
   "cell_type": "markdown",
   "source": [
    "# Preprocess Data\n",
    "To improve KNN performance, standardise the dataset:"
   ],
   "metadata": {
    "collapsed": false
   }
  },
  {
   "cell_type": "code",
   "execution_count": null,
   "outputs": [],
   "source": [
    "\n",
    "# Prepare Data for Baseline Model\n",
    "X = np.array(images_augmented)\n",
    "y = np.array(class_ids_augmented)\n",
    "\n",
    "# Standardize the Dataset\n",
    "scaler = StandardScaler()\n",
    "X_standardized = scaler.fit_transform(X)"
   ],
   "metadata": {
    "collapsed": false
   }
  },
  {
   "cell_type": "markdown",
   "source": [],
   "metadata": {
    "collapsed": false
   }
  },
  {
   "cell_type": "markdown",
   "source": [
    "# Train-Test Split\n",
    "Split the dataset into 50/50 for training and testing:"
   ],
   "metadata": {
    "collapsed": false
   }
  },
  {
   "cell_type": "code",
   "execution_count": null,
   "outputs": [],
   "source": [
    "\n",
    "# Split Data into Training and Test Sets (50/50 split)\n",
    "X_train, X_test, y_train, y_test = train_test_split(X_standardized, y, test_size=0.5, random_state=42)"
   ],
   "metadata": {
    "collapsed": false
   }
  },
  {
   "cell_type": "markdown",
   "source": [],
   "metadata": {
    "collapsed": false
   }
  },
  {
   "cell_type": "markdown",
   "source": [
    "# Train the Baseline KNN Model"
   ],
   "metadata": {
    "collapsed": false
   }
  },
  {
   "cell_type": "code",
   "execution_count": null,
   "outputs": [],
   "source": [
    "# Baseline KNN Model\n",
    "print(\"\\n--- Baseline KNN Model Performance ---\")\n",
    "baseline_knn = KNeighborsClassifier(n_neighbors=5)\n",
    "baseline_knn.fit(X_train, y_train)\n",
    "\n",
    "# Evaluate Baseline Model\n",
    "y_pred = baseline_knn.predict(X_test)\n",
    "baseline_accuracy = accuracy_score(y_test, y_pred)\n",
    "print(f\"Baseline KNN Test Accuracy (50/50 split): {baseline_accuracy:.3f}\")\n",
    "print(\"Classification Report:\")\n",
    "print(classification_report(y_test, y_pred, zero_division=0))\n",
    "print(\"Confusion Matrix:\")\n",
    "print(confusion_matrix(y_test, y_pred))"
   ],
   "metadata": {
    "collapsed": false
   }
  },
  {
   "cell_type": "markdown",
   "source": [],
   "metadata": {
    "collapsed": false
   }
  },
  {
   "cell_type": "markdown",
   "source": [
    "# Hyperparameter Tuning with GridSearchCV\n",
    "To find the optimal KNN parameters:"
   ],
   "metadata": {
    "collapsed": false
   }
  },
  {
   "cell_type": "code",
   "execution_count": null,
   "outputs": [],
   "source": [
    "#Hyperparameter Tuning with GridSearchCV\n",
    "print(\"\\n--- Hyperparameter Tuning Using GridSearchCV ---\")\n",
    "param_grid = {\n",
    "    'n_neighbors': [3, 5, 7, 9],\n",
    "    'weights': ['uniform', 'distance'],\n",
    "    'metric': ['euclidean', 'manhattan']\n",
    "}\n",
    "\n",
    "grid_search = GridSearchCV(KNeighborsClassifier(), param_grid, cv=5, scoring='accuracy', n_jobs=-1)\n",
    "grid_search.fit(X_train, y_train)\n",
    "\n",
    "print(f\"Best Hyperparameters: {grid_search.best_params_}\")\n",
    "optimized_knn = grid_search.best_estimator_"
   ],
   "metadata": {
    "collapsed": false
   }
  },
  {
   "cell_type": "markdown",
   "source": [],
   "metadata": {
    "collapsed": false
   }
  },
  {
   "cell_type": "markdown",
   "source": [
    "# Evaluate Optimized KNN"
   ],
   "metadata": {
    "collapsed": false
   }
  },
  {
   "cell_type": "code",
   "execution_count": null,
   "outputs": [],
   "source": [
    "# Evaluate Optimized Model\n",
    "y_pred_optimized = optimized_knn.predict(X_test)\n",
    "optimized_accuracy = accuracy_score(y_test, y_pred_optimized)\n",
    "print(f\"Optimized KNN Test Accuracy: {optimized_accuracy:.3f}\")\n",
    "print(\"Classification Report (Optimized):\")\n",
    "print(classification_report(y_test, y_pred_optimized, zero_division=0))"
   ],
   "metadata": {
    "collapsed": false
   }
  },
  {
   "cell_type": "markdown",
   "source": [
    "# Compare Results"
   ],
   "metadata": {
    "collapsed": false
   }
  },
  {
   "cell_type": "code",
   "execution_count": null,
   "outputs": [],
   "source": [
    "#  Compare Results\n",
    "print(\"\\n--- Comparison of Baseline and Optimized Model ---\")\n",
    "print(f\"Random Baseline Accuracy: {random_baseline_accuracy:.3f}\")\n",
    "print(f\"Baseline KNN Accuracy: {baseline_accuracy:.3f}\")\n",
    "print(f\"Optimized KNN Accuracy: {optimized_accuracy:.3f}\")\n",
    "print(f\"Improvement over Baseline KNN: {(optimized_accuracy - baseline_accuracy):.3f}\")\n",
    "print(f\"Improvement over Random Baseline: {(optimized_accuracy - random_baseline_accuracy):.3f}\")\n"
   ],
   "metadata": {
    "collapsed": false
   }
  },
  {
   "cell_type": "markdown",
   "source": [
    "The KNN results have been improved by data standardisation and augmentation.\n",
    "The model's performance was greatly enhanced by hyperparameter tuning."
   ],
   "metadata": {
    "collapsed": false
   }
  }
 ],
 "metadata": {
  "kernelspec": {
   "display_name": "Python 3",
   "language": "python",
   "name": "python3"
  },
  "language_info": {
   "codemirror_mode": {
    "name": "ipython",
    "version": 2
   },
   "file_extension": ".py",
   "mimetype": "text/x-python",
   "name": "python",
   "nbconvert_exporter": "python",
   "pygments_lexer": "ipython2",
   "version": "2.7.6"
  }
 },
 "nbformat": 4,
 "nbformat_minor": 0
}
