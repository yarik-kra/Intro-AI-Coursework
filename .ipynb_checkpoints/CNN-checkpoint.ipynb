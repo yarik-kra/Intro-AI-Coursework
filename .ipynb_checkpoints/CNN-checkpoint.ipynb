{
 "cells": [
  {
   "cell_type": "markdown",
   "metadata": {},
   "source": [
    "CNN - TRAFFIC SIGNS"
   ]
  },
  {
   "cell_type": "markdown",
   "metadata": {},
   "source": [
    "IMPORTING LIBRARIES AND READING THE CSV FILE "
   ]
  },
  {
   "cell_type": "code",
   "execution_count": 17,
   "metadata": {},
   "outputs": [
    {
     "name": "stdout",
     "output_type": "stream",
     "text": [
      "    ClassId                          Name\n",
      "0         0           Speed limit (5km/h)\n",
      "1         1          Speed limit (15km/h)\n",
      "2         2          Speed limit (30km/h)\n",
      "3         3          Speed limit (40km/h)\n",
      "4         4          Speed limit (50km/h)\n",
      "5         5          Speed limit (60km/h)\n",
      "6         6          Speed limit (70km/h)\n",
      "7         7          speed limit (80km/h)\n",
      "8         8      Dont Go straight or left\n",
      "9         9     Dont Go straight or Right\n",
      "10       10              Dont Go straight\n",
      "11       11                  Dont Go Left\n",
      "12       12         Dont Go Left or Right\n",
      "13       13                 Dont Go Right\n",
      "14       14       Dont overtake from Left\n",
      "15       15                      No Uturn\n",
      "16       16                        No Car\n",
      "17       17                       No horn\n",
      "18       18          Speed limit (40km/h)\n",
      "19       19          Speed limit (50km/h)\n",
      "20       20          Go straight or right\n",
      "21       21                   Go straight\n",
      "22       22                       Go Left\n",
      "23       23              Go Left or right\n",
      "24       24                      Go Right\n",
      "25       25                     keep Left\n",
      "26       26                    keep Right\n",
      "27       27          Roundabout mandatory\n",
      "28       28            watch out for cars\n",
      "29       29                          Horn\n",
      "30       30             Bicycles crossing\n",
      "31       31                         Uturn\n",
      "32       32                  Road Divider\n",
      "33       33               Traffic signals\n",
      "34       34                  Danger Ahead\n",
      "35       35                Zebra Crossing\n",
      "36       36             Bicycles crossing\n",
      "37       37             Children crossing\n",
      "38       38   Dangerous curve to the left\n",
      "39       39  Dangerous curve to the right\n",
      "40       40                      Unknown1\n",
      "41       41                      Unknown2\n",
      "42       42                      Unknown3\n",
      "43       43          Go right or straight\n",
      "44       44           Go left or straight\n",
      "45       45                      Unknown4\n",
      "46       46                  ZigZag Curve\n",
      "47       47                Train Crossing\n",
      "48       48            Under Construction\n",
      "49       49                      Unknown5\n",
      "50       50                        Fences\n",
      "51       51       Heavy Vehicle Accidents\n",
      "52       52                      Unknown6\n",
      "53       53                      Give Way\n",
      "54       54                   No stopping\n",
      "55       55                      No entry\n",
      "56       56                      Unknown7\n",
      "57       57                      Unknown8\n"
     ]
    }
   ],
   "source": [
    "import os\n",
    "import pandas as pd \n",
    "\n",
    "file_path = \"/Users/ibhaankudalkar/Downloads/archive/labels.csv\"\n",
    "\n",
    "filename_read = os.path.join(file_path, \"/Users/ibhaankudalkar/Downloads/archive/labels.csv\")\n",
    "df = pd.read_csv(filename_read)\n",
    "print(df)"
   ]
  },
  {
   "cell_type": "markdown",
   "metadata": {},
   "source": [
    "- IMPORTING PYTORCH LIBRARY\n",
    "- USING TRANSFORM TO PREPROCESS EACH IMAGE\n",
    "- RESIZING 32X32 FOR FIXED PIXEL SIZE\n",
    "- TENSOR TO CONVERT IN PYTORCH METHOD \n",
    "- NORMALIZE FOR STANDARD RANGE\n",
    "- LOAD THE IMAGE DATA\n",
    "- SPLIT THE DATA AND PREPARE FOR TRAINING \n",
    "-  FIRST THREE SAMPLE IMAGES OF OUR DATA IS VIEWED ALONG WITH THEIR CLASS NAMES\n"
   ]
  },
  {
   "cell_type": "code",
   "execution_count": 38,
   "metadata": {},
   "outputs": [
    {
     "name": "stderr",
     "output_type": "stream",
     "text": [
      "Clipping input data to the valid range for imshow with RGB data ([0..1] for floats or [0..255] for integers). Got range [-0.90588236..0.6784314].\n",
      "Clipping input data to the valid range for imshow with RGB data ([0..1] for floats or [0..255] for integers). Got range [-0.6156863..0.45882356].\n",
      "Clipping input data to the valid range for imshow with RGB data ([0..1] for floats or [0..255] for integers). Got range [-0.7019608..0.7254902].\n"
     ]
    },
    {
     "name": "stdout",
     "output_type": "stream",
     "text": [
      "Number of classes: 58\n",
      "Train size: 2919\n",
      "Validation size: 625\n",
      "Test size: 626\n",
      "4170\n"
     ]
    },
    {
     "data": {
      "image/png": "[encoded data removed]",
      "text/plain": [
       "<Figure size 1000x400 with 3 Axes>"
      ]
     },
     "metadata": {},
     "output_type": "display_data"
    },
    {
     "name": "stdout",
     "output_type": "stream",
     "text": [
      "Image shape: torch.Size([3, 32, 32])\n"
     ]
    }
   ],
   "source": [
    "# CNN Implementation in pytorch \n",
    "\n",
    "import torch\n",
    "import torch.nn as nn\n",
    "import torch.nn.functional as F  \n",
    "import torch.optim \n",
    "import torch.optim as optim\n",
    "from torch.utils.data import DataLoader, random_split\n",
    "from torchvision import datasets, transforms\n",
    "from sklearn.model_selection import train_test_split\n",
    "import matplotlib.pyplot as plt\n",
    "\n",
    "\n",
    "# transformation \n",
    "transform = transforms.Compose([\n",
    "    transforms.Resize((32, 32)),\n",
    "    transforms.ToTensor(),\n",
    "    transforms.Normalize((0.5, 0.5, 0.5), (0.5, 0.5, 0.5)),\n",
    "])\n",
    "\n",
    "dataset = datasets.ImageFolder(root='/Users/ibhaankudalkar/Downloads/archive/traffic_Data/DATA', transform=transform)\n",
    "num_classes = len(dataset.classes)\n",
    "print(f\"Number of classes: {num_classes}\")\n",
    "\n",
    "# train test split\n",
    "train_size = int(0.7 * len(dataset)) # 70\n",
    "val_size = int(0.15 * len(dataset)) # 15\n",
    "test_size = len(dataset) - train_size - val_size # 15\n",
    "train_dataset, val_dataset, test_dataset = random_split(dataset, [train_size, val_size, test_size])\n",
    "print(\"Train size:\", train_size)\n",
    "print(\"Validation size:\", val_size)\n",
    "print(\"Test size:\", test_size)\n",
    "print(train_size + val_size + test_size)\n",
    "\n",
    "train_loader = DataLoader(train_dataset, batch_size=32, shuffle=True)\n",
    "val_loader = DataLoader(val_dataset, batch_size=32, shuffle=False)\n",
    "test_loader = DataLoader(test_dataset, batch_size=32, shuffle=False)\n",
    "\n",
    "# Sample of images \n",
    "def samples(images, labels, class_names):\n",
    "    plt.figure(figsize=(10, 4))\n",
    "    for i in range(len(images)):  \n",
    "        plt.subplot(1, len(images), i + 1)\n",
    "        plt.imshow(images[i].permute(1, 2, 0).numpy())  \n",
    "        plt.title(f\"Class: {class_names[labels[i]]}\")\n",
    "        plt.axis('off')\n",
    "    plt.show()\n",
    "\n",
    "# batch of data\n",
    "data_iter = iter(train_loader)\n",
    "images, labels = next(data_iter)\n",
    "\n",
    "# first 3 images\n",
    "samples(images[:3], labels[:3], dataset.classes)\n",
    "\n",
    "# print(f\"Image shape: {sample_images[0].shape}\")\n"
   ]
  },
  {
   "cell_type": "markdown",
   "metadata": {},
   "source": [
    "- A CNN CLASS IS DEFINED WITH THREE CONVOLUTIONAL LAYERS \n",
    "- MAX POOLING WITH A 2X2 FILTER REDUCING THE SPATIAL DIMENSION BY HALF\n",
    "- A DENSE LAYER IS USED TO ADJUST THE ACTUAL IMAGE SIZE\n",
    "- A DROPOUT LAYER WAS ADDED TO MINIMIZE OVERFITTING \n",
    "\n",
    "- A FORWARD PASS IS APPLIED TO INPUT X \n",
    "- RELU ACTIVATION FUNCTION ON THE THREE CONVOLUTIONAL LAYERS OF INPUT X WITH MAX POOLING \n",
    "- X.VIEW FLATTENS THE TENSOR TO 1D VECTOR\n",
    "- RELU IS APPLIED TO INPUT X TO FLATTEN THE VECTOR AND TO PRODUCE THE LOGITS FOR CLASSIFICATION\n",
    "- YOU THEN RETURN X\n",
    "\n",
    "- INITIALIZATION\n",
    "- CREATE A INSTANCE OF CNN MODEL\n",
    "- DEFINE THE LOSS FUNCTION \n",
    "- ADAM OPTIMIZER IS USED WITH PARAMETERS AND LEARNING RATE 0.001\n"
   ]
  },
  {
   "cell_type": "code",
   "execution_count": 29,
   "metadata": {},
   "outputs": [],
   "source": [
    "# CNN MODEL CLASS\n",
    "class CNN(nn.Module):\n",
    "    def __init__(self, num_classes):\n",
    "        super(CNN, self).__init__()\n",
    "        self.conv1 = nn.Conv2d(3, 32, kernel_size=3, padding=1)\n",
    "        self.conv2 = nn.Conv2d(32, 64, kernel_size=3, padding=1)\n",
    "        self.conv3 = nn.Conv2d(64, 128, kernel_size=3, padding=1)\n",
    "        self.pool = nn.MaxPool2d(2, 2)\n",
    "        self.c1 = nn.Linear(128 * 4 * 4, 512)  \n",
    "        self.dropout = nn.Dropout(0.5)\n",
    "        self.c2 = nn.Linear(512, num_classes)\n",
    "\n",
    "    def forward(self, x):\n",
    "        x = self.pool(F.relu(self.conv1(x)))\n",
    "        x = self.pool(F.relu(self.conv2(x)))\n",
    "        x = self.pool(F.relu(self.conv3(x)))\n",
    "        x = x.view(-1, 128 * 4 * 4) \n",
    "        x = F.relu(self.c1(x))\n",
    "        self.dropout = nn.Dropout(0.5)\n",
    "        x = self.c2(x)\n",
    "        return x\n",
    "\n",
    "# Initialize the model, criterion, and optimizer\n",
    "model = CNN(num_classes=num_classes)\n",
    "criterion = nn.Loss()\n",
    "optimizer = optim.Adam(model.parameters(), lr=0.001)\n"
   ]
  },
  {
   "cell_type": "markdown",
   "metadata": {},
   "source": [
    "- FUNCTION TRAIN MODEL IS USED TO EVALUATE PERFORMANCE OF EACH EPOCH\n",
    "- LOOPING THE NUMBER OF EPOCHS TO TRAIN WITH A SMALL BATCH IN THE TRAINING SET \n",
    "\n",
    "- VALIDATION LOOP IS USED TO VALIDATE THE LOOPS WITHOUT UPDATING THE WEIGHTS\n",
    "\n",
    "- PRINT FOR METRICS AFTER EACH EPOCH\n",
    "\n",
    "- LASTLY CALLS THE TRAIN MODEL FOR 8 EPOCHS"
   ]
  },
  {
   "cell_type": "code",
   "execution_count": 39,
   "metadata": {},
   "outputs": [
    {
     "name": "stdout",
     "output_type": "stream",
     "text": [
      "Epoch 1/8, Train Loss: 0.1548, Validation Loss: 0.0908, Validation Accuracy: 97.76%\n",
      "Epoch 2/8, Train Loss: 0.0377, Validation Loss: 0.0383, Validation Accuracy: 98.88%\n",
      "Epoch 3/8, Train Loss: 0.0099, Validation Loss: 0.0156, Validation Accuracy: 99.36%\n",
      "Epoch 4/8, Train Loss: 0.0054, Validation Loss: 0.0100, Validation Accuracy: 99.84%\n",
      "Epoch 5/8, Train Loss: 0.0009, Validation Loss: 0.0053, Validation Accuracy: 99.84%\n",
      "Epoch 6/8, Train Loss: 0.0007, Validation Loss: 0.0078, Validation Accuracy: 99.68%\n",
      "Epoch 7/8, Train Loss: 0.0011, Validation Loss: 0.0111, Validation Accuracy: 99.68%\n",
      "Epoch 8/8, Train Loss: 0.0004, Validation Loss: 0.0042, Validation Accuracy: 99.84%\n"
     ]
    }
   ],
   "source": [
    "# train model for each epoch\n",
    "def train_model(model, train_loader, val_loader, criterion, optimizer, epochs=8):\n",
    "    for epoch in range(epochs):\n",
    "        model.train()\n",
    "        running_loss = 0.0\n",
    "        for images, labels in train_loader:\n",
    "            optimizer.zero_grad()\n",
    "            outputs = model(images)\n",
    "            loss = criterion(outputs, labels)\n",
    "            loss.backward()\n",
    "            optimizer.step()\n",
    "            running_loss += loss.item()\n",
    "        \n",
    "        # Validation step\n",
    "        model.eval()\n",
    "        val_loss = 0.0\n",
    "        correct = 0\n",
    "        total = 0\n",
    "        with torch.no_grad():\n",
    "            for images, labels in val_loader:\n",
    "                outputs = model(images)\n",
    "                loss = criterion(outputs, labels)\n",
    "                val_loss += loss.item()\n",
    "                _, predicted = torch.max(outputs, 1)\n",
    "                total += labels.size(0)\n",
    "                correct += (predicted == labels).sum().item()\n",
    "        \n",
    "        \n",
    "        print(f\"Epoch {epoch+1}/{epochs}, \"\n",
    "              f\"Train Loss: {running_loss/len(train_loader):.4f}, \"\n",
    "              f\"Validation Loss: {val_loss/len(val_loader):.4f}, \"\n",
    "              f\"Validation Accuracy: {100 * correct / total:.2f}%\")\n",
    "\n",
    "# Train the model\n",
    "train_model(model, train_loader, val_loader, criterion, optimizer, epochs=8)\n"
   ]
  },
  {
   "cell_type": "markdown",
   "metadata": {},
   "source": [
    "- FUNCTION TEST MODEL IN EVALUATION ITERATES THROUGH THE TEST DATA \n",
    "- PRINTS THE ACCURACY SCORE \n",
    "- LASTLY, CALLS THE FUNCTION "
   ]
  },
  {
   "cell_type": "code",
   "execution_count": 40,
   "metadata": {},
   "outputs": [
    {
     "name": "stdout",
     "output_type": "stream",
     "text": [
      "Accuracy Score: 99.84%\n"
     ]
    }
   ],
   "source": [
    "# Testing and Evaluation\n",
    "def test_model(model, test_loader):\n",
    "    model.eval()\n",
    "    correct, total = 0, 0\n",
    "    with torch.no_grad():\n",
    "        for images, labels in test_loader:\n",
    "            outputs = model(images)\n",
    "            _, predicted = torch.max(outputs, 1)\n",
    "            total += labels.size(0)\n",
    "            correct += (predicted == labels).sum().item()\n",
    "    print(f\"Accuracy Score: {100 * correct / total:.2f}%\")\n",
    "\n",
    "test_model(model, test_loader)"
   ]
  },
  {
   "cell_type": "markdown",
   "metadata": {},
   "source": [
    "- SAVE THE TRAINED MODEL"
   ]
  },
  {
   "cell_type": "code",
   "execution_count": 44,
   "metadata": {},
   "outputs": [
    {
     "name": "stdout",
     "output_type": "stream",
     "text": [
      "Saved trained model\n"
     ]
    }
   ],
   "source": [
    "# save the model\n",
    "torch.save(model, 'model.pth')\n",
    "print('Saved trained model')"
   ]
  }
 ],
 "metadata": {
  "kernelspec": {
   "display_name": "Python 3",
   "language": "python",
   "name": "python3"
  },
  "language_info": {
   "codemirror_mode": {
    "name": "ipython",
    "version": 3
   },
   "file_extension": ".py",
   "mimetype": "text/x-python",
   "name": "python",
   "nbconvert_exporter": "python",
   "pygments_lexer": "ipython3",
   "version": "3.9.0"
  }
 },
 "nbformat": 4,
 "nbformat_minor": 2
}
