{
 "cells": [
  {
   "cell_type": "code",
   "execution_count": 1,
   "id": "dbd741b2-6984-40cf-9b35-dadf879fa3db",
   "metadata": {},
   "outputs": [],
   "source": [
    "import os\n",
    "import shutil"
   ]
  },
  {
   "cell_type": "code",
   "execution_count": 7,
   "id": "29423a5d-c14d-4b94-be4d-d68db1e76b3b",
   "metadata": {},
   "outputs": [],
   "source": [
    "path = \"data/traffic_Data/TEST/\""
   ]
  },
  {
   "cell_type": "code",
   "execution_count": 9,
   "id": "b98af5ad-f196-408f-a9f8-74d078873d67",
   "metadata": {},
   "outputs": [],
   "source": [
    "for i in range(0, 58):\n",
    "    os.makedirs(path + str(i))"
   ]
  },
  {
   "cell_type": "code",
   "execution_count": 19,
   "id": "ba141f3a-372d-4e00-a7cb-1b331d2e620e",
   "metadata": {},
   "outputs": [],
   "source": [
    "for filename in os.listdir(path):\n",
    "    if \".png\" in filename.lower():\n",
    "        shutil.move(path + filename, path + str(int(filename[0:3])))"
   ]
  }
 ],
 "metadata": {
  "kernelspec": {
   "display_name": "Python 3 (ipykernel)",
   "language": "python",
   "name": "python3"
  },
  "language_info": {
   "codemirror_mode": {
    "name": "ipython",
    "version": 3
   },
   "file_extension": ".py",
   "mimetype": "text/x-python",
   "name": "python",
   "nbconvert_exporter": "python",
   "pygments_lexer": "ipython3",
   "version": "3.12.4"
  }
 },
 "nbformat": 4,
 "nbformat_minor": 5
}
