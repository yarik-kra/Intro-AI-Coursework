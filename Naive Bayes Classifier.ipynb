{
 "cells": [
  {
   "cell_type": "markdown",
   "id": "f67e9c85-15ec-49e0-9592-e858279e6c68",
   "metadata": {},
   "source": [
    "# Importing initial libraries "
   ]
  },
  {
   "cell_type": "code",
   "execution_count": 3,
   "id": "2f894a2c-2618-4686-96ee-449a1b252f96",
   "metadata": {},
   "outputs": [],
   "source": [
    "import numpy as np\n",
    "import pandas as pd\n",
    "import cv2 as cv\n",
    "import matplotlib.pyplot as plt"
   ]
  },
  {
   "cell_type": "markdown",
   "id": "891f8482-8869-4642-a73e-81842e439a21",
   "metadata": {},
   "source": [
    "# Importing the data/images\n",
    "## Importing the labels \n",
    "Before being able to import the data/images, I need to import the csv file containing all the data about the location and description of the images."
   ]
  },
  {
   "cell_type": "code",
   "execution_count": 8,
   "id": "c338675d-e24b-403a-95fb-23886c9b2e62",
   "metadata": {},
   "outputs": [
    {
     "data": {
      "text/html": [
       "<div>\n",
       "<style scoped>\n",
       "    .dataframe tbody tr th:only-of-type {\n",
       "        vertical-align: middle;\n",
       "    }\n",
       "\n",
       "    .dataframe tbody tr th {\n",
       "        vertical-align: top;\n",
       "    }\n",
       "\n",
       "    .dataframe thead th {\n",
       "        text-align: right;\n",
       "    }\n",
       "</style>\n",
       "<table border=\"1\" class=\"dataframe\">\n",
       "  <thead>\n",
       "    <tr style=\"text-align: right;\">\n",
       "      <th></th>\n",
       "      <th>ClassId</th>\n",
       "      <th>Name</th>\n",
       "    </tr>\n",
       "  </thead>\n",
       "  <tbody>\n",
       "    <tr>\n",
       "      <th>0</th>\n",
       "      <td>0</td>\n",
       "      <td>Speed limit (5km/h)</td>\n",
       "    </tr>\n",
       "    <tr>\n",
       "      <th>1</th>\n",
       "      <td>1</td>\n",
       "      <td>Speed limit (15km/h)</td>\n",
       "    </tr>\n",
       "    <tr>\n",
       "      <th>2</th>\n",
       "      <td>2</td>\n",
       "      <td>Speed limit (30km/h)</td>\n",
       "    </tr>\n",
       "    <tr>\n",
       "      <th>3</th>\n",
       "      <td>3</td>\n",
       "      <td>Speed limit (40km/h)</td>\n",
       "    </tr>\n",
       "    <tr>\n",
       "      <th>4</th>\n",
       "      <td>4</td>\n",
       "      <td>Speed limit (50km/h)</td>\n",
       "    </tr>\n",
       "  </tbody>\n",
       "</table>\n",
       "</div>"
      ],
      "text/plain": [
       "   ClassId                  Name\n",
       "0        0   Speed limit (5km/h)\n",
       "1        1  Speed limit (15km/h)\n",
       "2        2  Speed limit (30km/h)\n",
       "3        3  Speed limit (40km/h)\n",
       "4        4  Speed limit (50km/h)"
      ]
     },
     "execution_count": 8,
     "metadata": {},
     "output_type": "execute_result"
    }
   ],
   "source": [
    "df = pd.read_csv(\"data/labels.csv\")\n",
    "\n",
    "# Check for the head of the dataframe\n",
    "df.head()"
   ]
  },
  {
   "cell_type": "markdown",
   "id": "401ce8b6-17bf-4e25-829d-b385a1a935a4",
   "metadata": {},
   "source": [
    "## Exploring and cleaning the dataframe\n",
    "Before I can utilise the data provided in the dataframe, I am going to look whether I can use all the values provided by the authors of the dataset in this csv file."
   ]
  },
  {
   "cell_type": "code",
   "execution_count": 17,
   "id": "afb912f3-0eaa-4e80-91f7-21f7ac3cf7cc",
   "metadata": {},
   "outputs": [
    {
     "data": {
      "text/plain": [
       "array(['Speed limit (5km/h)', 'Speed limit (15km/h)',\n",
       "       'Speed limit (30km/h)', 'Speed limit (40km/h)',\n",
       "       'Speed limit (50km/h)', 'Speed limit (60km/h)',\n",
       "       'Speed limit (70km/h)', 'speed limit (80km/h)',\n",
       "       'Dont Go straight or left', 'Dont Go straight or Right',\n",
       "       'Dont Go straight', 'Dont Go Left', 'Dont Go Left or Right',\n",
       "       'Dont Go Right', 'Dont overtake from Left', 'No Uturn', 'No Car',\n",
       "       'No horn', 'Go straight or right', 'Go straight', 'Go Left',\n",
       "       'Go Left or right', 'Go Right', 'keep Left', 'keep Right',\n",
       "       'Roundabout mandatory', 'watch out for cars', 'Horn',\n",
       "       'Bicycles crossing', 'Uturn', 'Road Divider', 'Traffic signals',\n",
       "       'Danger Ahead', 'Zebra Crossing', 'Children crossing',\n",
       "       'Dangerous curve to the left', 'Dangerous curve to the right',\n",
       "       'Unknown1', 'Unknown2', 'Unknown3', 'Go right or straight',\n",
       "       'Go left or straight', 'Unknown4', 'ZigZag Curve',\n",
       "       'Train Crossing', 'Under Construction', 'Unknown5', 'Fences',\n",
       "       'Heavy Vehicle Accidents', 'Unknown6', 'Give Way', 'No stopping',\n",
       "       'No entry', 'Unknown7', 'Unknown8'], dtype=object)"
      ]
     },
     "execution_count": 17,
     "metadata": {},
     "output_type": "execute_result"
    }
   ],
   "source": [
    "# Checking for unique values in \"Name\"\n",
    "df.Name.unique()"
   ]
  },
  {
   "cell_type": "code",
   "execution_count": 29,
   "id": "8d61df01-7b11-4dfd-91ad-53e362c6d7ea",
   "metadata": {},
   "outputs": [
    {
     "data": {
      "text/plain": [
       "array(['Speed limit (5km/h)', 'Speed limit (15km/h)',\n",
       "       'Speed limit (30km/h)', 'Speed limit (40km/h)',\n",
       "       'Speed limit (50km/h)', 'Speed limit (60km/h)',\n",
       "       'Speed limit (70km/h)', 'speed limit (80km/h)',\n",
       "       'Dont Go straight or left', 'Dont Go straight or Right',\n",
       "       'Dont Go straight', 'Dont Go Left', 'Dont Go Left or Right',\n",
       "       'Dont Go Right', 'Dont overtake from Left', 'No Uturn', 'No Car',\n",
       "       'No horn', 'Go straight or right', 'Go straight', 'Go Left',\n",
       "       'Go Left or right', 'Go Right', 'keep Left', 'keep Right',\n",
       "       'Roundabout mandatory', 'watch out for cars', 'Horn',\n",
       "       'Bicycles crossing', 'Uturn', 'Road Divider', 'Traffic signals',\n",
       "       'Danger Ahead', 'Zebra Crossing', 'Children crossing',\n",
       "       'Dangerous curve to the left', 'Dangerous curve to the right',\n",
       "       'Go right or straight', 'Go left or straight', 'ZigZag Curve',\n",
       "       'Train Crossing', 'Under Construction', 'Fences',\n",
       "       'Heavy Vehicle Accidents', 'Give Way', 'No stopping', 'No entry'],\n",
       "      dtype=object)"
      ]
     },
     "execution_count": 29,
     "metadata": {},
     "output_type": "execute_result"
    }
   ],
   "source": [
    "# There are a few \"Unknown\" labels, which must be removed\n",
    "df = df.loc[~df['Name'].str.contains(\"Unknown\")]\n",
    "df.Name.unique()"
   ]
  },
  {
   "cell_type": "markdown",
   "id": "142dfcb7-5be4-4300-b482-93d1e8f7aa33",
   "metadata": {},
   "source": [
    "## Getting the images\n",
    "Now that I every"
   ]
  },
  {
   "cell_type": "code",
   "execution_count": null,
   "id": "04197248-4068-4265-8605-a6e6fc92e4bd",
   "metadata": {},
   "outputs": [],
   "source": []
  }
 ],
 "metadata": {
  "kernelspec": {
   "display_name": "Python 3 (ipykernel)",
   "language": "python",
   "name": "python3"
  },
  "language_info": {
   "codemirror_mode": {
    "name": "ipython",
    "version": 3
   },
   "file_extension": ".py",
   "mimetype": "text/x-python",
   "name": "python",
   "nbconvert_exporter": "python",
   "pygments_lexer": "ipython3",
   "version": "3.12.4"
  }
 },
 "nbformat": 4,
 "nbformat_minor": 5
}
