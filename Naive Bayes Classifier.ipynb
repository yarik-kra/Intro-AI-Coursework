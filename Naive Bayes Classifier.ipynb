{
 "cells": [
  {
   "cell_type": "markdown",
   "id": "f67e9c85-15ec-49e0-9592-e858279e6c68",
   "metadata": {},
   "source": [
    "# Importing initial libraries "
   ]
  },
  {
   "cell_type": "code",
   "execution_count": 27,
   "id": "2f894a2c-2618-4686-96ee-449a1b252f96",
   "metadata": {},
   "outputs": [],
   "source": [
    "import numpy as np\n",
    "import pandas as pd\n",
    "import cv2 as cv\n",
    "import matplotlib.pyplot as plt\n",
    "import os"
   ]
  },
  {
   "cell_type": "markdown",
   "id": "891f8482-8869-4642-a73e-81842e439a21",
   "metadata": {},
   "source": [
    "# Importing the data/images\n",
    "## Importing the labels \n",
    "Before being able to import the data/images, I need to import the csv file containing all the data about the location and description of the images."
   ]
  },
  {
   "cell_type": "code",
   "execution_count": 4,
   "id": "c338675d-e24b-403a-95fb-23886c9b2e62",
   "metadata": {},
   "outputs": [
    {
     "data": {
      "text/html": [
       "<div>\n",
       "<style scoped>\n",
       "    .dataframe tbody tr th:only-of-type {\n",
       "        vertical-align: middle;\n",
       "    }\n",
       "\n",
       "    .dataframe tbody tr th {\n",
       "        vertical-align: top;\n",
       "    }\n",
       "\n",
       "    .dataframe thead th {\n",
       "        text-align: right;\n",
       "    }\n",
       "</style>\n",
       "<table border=\"1\" class=\"dataframe\">\n",
       "  <thead>\n",
       "    <tr style=\"text-align: right;\">\n",
       "      <th></th>\n",
       "      <th>ClassId</th>\n",
       "      <th>Name</th>\n",
       "    </tr>\n",
       "  </thead>\n",
       "  <tbody>\n",
       "    <tr>\n",
       "      <th>0</th>\n",
       "      <td>0</td>\n",
       "      <td>Speed limit (5km/h)</td>\n",
       "    </tr>\n",
       "    <tr>\n",
       "      <th>1</th>\n",
       "      <td>1</td>\n",
       "      <td>Speed limit (15km/h)</td>\n",
       "    </tr>\n",
       "    <tr>\n",
       "      <th>2</th>\n",
       "      <td>2</td>\n",
       "      <td>Speed limit (30km/h)</td>\n",
       "    </tr>\n",
       "    <tr>\n",
       "      <th>3</th>\n",
       "      <td>3</td>\n",
       "      <td>Speed limit (40km/h)</td>\n",
       "    </tr>\n",
       "    <tr>\n",
       "      <th>4</th>\n",
       "      <td>4</td>\n",
       "      <td>Speed limit (50km/h)</td>\n",
       "    </tr>\n",
       "  </tbody>\n",
       "</table>\n",
       "</div>"
      ],
      "text/plain": [
       "   ClassId                  Name\n",
       "0        0   Speed limit (5km/h)\n",
       "1        1  Speed limit (15km/h)\n",
       "2        2  Speed limit (30km/h)\n",
       "3        3  Speed limit (40km/h)\n",
       "4        4  Speed limit (50km/h)"
      ]
     },
     "execution_count": 4,
     "metadata": {},
     "output_type": "execute_result"
    }
   ],
   "source": [
    "df = pd.read_csv(\"data/labels.csv\")\n",
    "\n",
    "# Check for the head of the dataframe\n",
    "df.head()"
   ]
  },
  {
   "cell_type": "markdown",
   "id": "401ce8b6-17bf-4e25-829d-b385a1a935a4",
   "metadata": {},
   "source": [
    "## Exploring and cleaning the dataframe\n",
    "Before I can utilise the data provided in the dataframe, I am going to look whether I can use all the values provided by the authors of the dataset in this csv file."
   ]
  },
  {
   "cell_type": "code",
   "execution_count": 6,
   "id": "afb912f3-0eaa-4e80-91f7-21f7ac3cf7cc",
   "metadata": {},
   "outputs": [
    {
     "data": {
      "text/plain": [
       "array(['Speed limit (5km/h)', 'Speed limit (15km/h)',\n",
       "       'Speed limit (30km/h)', 'Speed limit (40km/h)',\n",
       "       'Speed limit (50km/h)', 'Speed limit (60km/h)',\n",
       "       'Speed limit (70km/h)', 'speed limit (80km/h)',\n",
       "       'Dont Go straight or left', 'Dont Go straight or Right',\n",
       "       'Dont Go straight', 'Dont Go Left', 'Dont Go Left or Right',\n",
       "       'Dont Go Right', 'Dont overtake from Left', 'No Uturn', 'No Car',\n",
       "       'No horn', 'Go straight or right', 'Go straight', 'Go Left',\n",
       "       'Go Left or right', 'Go Right', 'keep Left', 'keep Right',\n",
       "       'Roundabout mandatory', 'watch out for cars', 'Horn',\n",
       "       'Bicycles crossing', 'Uturn', 'Road Divider', 'Traffic signals',\n",
       "       'Danger Ahead', 'Zebra Crossing', 'Children crossing',\n",
       "       'Dangerous curve to the left', 'Dangerous curve to the right',\n",
       "       'Unknown1', 'Unknown2', 'Unknown3', 'Go right or straight',\n",
       "       'Go left or straight', 'Unknown4', 'ZigZag Curve',\n",
       "       'Train Crossing', 'Under Construction', 'Unknown5', 'Fences',\n",
       "       'Heavy Vehicle Accidents', 'Unknown6', 'Give Way', 'No stopping',\n",
       "       'No entry', 'Unknown7', 'Unknown8'], dtype=object)"
      ]
     },
     "execution_count": 6,
     "metadata": {},
     "output_type": "execute_result"
    }
   ],
   "source": [
    "# Checking for unique values in \"Name\"\n",
    "df.Name.unique()"
   ]
  },
  {
   "cell_type": "code",
   "execution_count": 10,
   "id": "8d61df01-7b11-4dfd-91ad-53e362c6d7ea",
   "metadata": {},
   "outputs": [
    {
     "data": {
      "text/plain": [
       "array(['Speed limit (5km/h)', 'Speed limit (15km/h)',\n",
       "       'Speed limit (30km/h)', 'Speed limit (40km/h)',\n",
       "       'Speed limit (50km/h)', 'Speed limit (60km/h)',\n",
       "       'Speed limit (70km/h)', 'speed limit (80km/h)',\n",
       "       'Dont Go straight or left', 'Dont Go straight or Right',\n",
       "       'Dont Go straight', 'Dont Go Left', 'Dont Go Left or Right',\n",
       "       'Dont Go Right', 'Dont overtake from Left', 'No Uturn', 'No Car',\n",
       "       'No horn', 'Go straight or right', 'Go straight', 'Go Left',\n",
       "       'Go Left or right', 'Go Right', 'keep Left', 'keep Right',\n",
       "       'Roundabout mandatory', 'watch out for cars', 'Horn',\n",
       "       'Bicycles crossing', 'Uturn', 'Road Divider', 'Traffic signals',\n",
       "       'Danger Ahead', 'Zebra Crossing', 'Children crossing',\n",
       "       'Dangerous curve to the left', 'Dangerous curve to the right',\n",
       "       'Go right or straight', 'Go left or straight', 'ZigZag Curve',\n",
       "       'Train Crossing', 'Under Construction', 'Fences',\n",
       "       'Heavy Vehicle Accidents', 'Give Way', 'No stopping', 'No entry'],\n",
       "      dtype=object)"
      ]
     },
     "execution_count": 10,
     "metadata": {},
     "output_type": "execute_result"
    }
   ],
   "source": [
    "# There are a few \"Unknown\" labels, which must be removed\n",
    "df = df.loc[~df['Name'].str.contains(\"Unknown\")]\n",
    "df.Name.unique()"
   ]
  },
  {
   "cell_type": "markdown",
   "id": "142dfcb7-5be4-4300-b482-93d1e8f7aa33",
   "metadata": {},
   "source": [
    "## Getting the images\n",
    "Now that all the labels have a distinct and meaningful description, I can now import the images."
   ]
  },
  {
   "cell_type": "code",
   "execution_count": 54,
   "id": "04197248-4068-4265-8605-a6e6fc92e4bd",
   "metadata": {},
   "outputs": [],
   "source": [
    "train_dataset = []\n",
    "IMG_SIZE = 48\n",
    "\n",
    "train_path = \"data/traffic_Data/DATA/\"\n",
    "classIDs = df.ClassId\n",
    "\n",
    "for i in range(0, int(df.iloc[-1].ClassId)):\n",
    "    if i in classIDs:\n",
    "        folder = train_path + str(i)\n",
    "        for filename in os.listdir(folder):\n",
    "            img = cv.imread(os.path.join(folder, filename))\n",
    "            if img is not None:\n",
    "                cv.resize(img, (IMG_SIZE, IMG_SIZE))\n",
    "                img = img/255.0\n",
    "                train_dataset.append([i, img])"
   ]
  },
  {
   "cell_type": "code",
   "execution_count": 59,
   "id": "1c0690a9-7011-4ec7-8b20-a014709d5307",
   "metadata": {},
   "outputs": [],
   "source": [
    "test_dataset = []\n",
    "\n",
    "test_path = \"data/traffic_Data/TEST/\"\n",
    "classIDs = df.ClassId\n",
    "\n",
    "for i in range(0, int(df.iloc[-1].ClassId)):\n",
    "    if i in classIDs:\n",
    "        folder = test_path + str(i)\n",
    "        for filename in os.listdir(folder):\n",
    "            img = cv.imread(os.path.join(folder, filename))\n",
    "            if img is not None:\n",
    "                cv.resize(img, (IMG_SIZE, IMG_SIZE))\n",
    "                img = img/255.0\n",
    "                test_dataset.append([i, img])"
   ]
  },
  {
   "cell_type": "markdown",
   "id": "ab7442bd-bd2b-49b9-ac35-38793989f4cc",
   "metadata": {},
   "source": [
    "## Randomising the dataset \n",
    "This will make suret hat my neural network is not going to overfit for one specific class."
   ]
  },
  {
   "cell_type": "code",
   "execution_count": 61,
   "id": "24959be9-f2d5-4f08-8c27-522a27763315",
   "metadata": {},
   "outputs": [],
   "source": [
    "import random \n",
    "random.shuffle(test_dataset)\n",
    "random.shuffle(train_dataset)"
   ]
  },
  {
   "cell_type": "markdown",
   "id": "393d7848-0532-4d04-a216-41d23929b8f7",
   "metadata": {},
   "source": [
    "# Training the Naive Bayes model\n",
    "Now that I have imported the images with which I am going to train my model with, I am going to have to build a neural network.\n",
    "## Importing pytorch"
   ]
  },
  {
   "cell_type": "code",
   "execution_count": 63,
   "id": "673442cb-c2c6-4b4d-9297-729d8d230f37",
   "metadata": {},
   "outputs": [],
   "source": [
    "from sklearn.naive_bayes import GaussianNB"
   ]
  },
  {
   "cell_type": "code",
   "execution_count": 65,
   "id": "75939687-d657-4833-a104-5933a7778f5b",
   "metadata": {},
   "outputs": [],
   "source": [
    "x = []\n",
    "y = []\n",
    "\n",
    "for item in train_dataset:\n",
    "    x.append(item[1].flatten())\n",
    "    y.append(item[0])"
   ]
  },
  {
   "cell_type": "code",
   "execution_count": 71,
   "id": "aa072342-dff5-4f5f-95c9-485a4dc379d1",
   "metadata": {},
   "outputs": [
    {
     "ename": "ValueError",
     "evalue": "setting an array element with a sequence. The requested array has an inhomogeneous shape after 1 dimensions. The detected shape was (3708,) + inhomogeneous part.",
     "output_type": "error",
     "traceback": [
      "\u001b[1;31m---------------------------------------------------------------------------\u001b[0m",
      "\u001b[1;31mValueError\u001b[0m                                Traceback (most recent call last)",
      "Cell \u001b[1;32mIn[71], line 2\u001b[0m\n\u001b[0;32m      1\u001b[0m model \u001b[38;5;241m=\u001b[39m GaussianNB()\n\u001b[1;32m----> 2\u001b[0m model\u001b[38;5;241m.\u001b[39mfit(x, y)\n",
      "File \u001b[1;32m~\\anaconda3\\Lib\\site-packages\\sklearn\\base.py:1474\u001b[0m, in \u001b[0;36m_fit_context.<locals>.decorator.<locals>.wrapper\u001b[1;34m(estimator, *args, **kwargs)\u001b[0m\n\u001b[0;32m   1467\u001b[0m     estimator\u001b[38;5;241m.\u001b[39m_validate_params()\n\u001b[0;32m   1469\u001b[0m \u001b[38;5;28;01mwith\u001b[39;00m config_context(\n\u001b[0;32m   1470\u001b[0m     skip_parameter_validation\u001b[38;5;241m=\u001b[39m(\n\u001b[0;32m   1471\u001b[0m         prefer_skip_nested_validation \u001b[38;5;129;01mor\u001b[39;00m global_skip_validation\n\u001b[0;32m   1472\u001b[0m     )\n\u001b[0;32m   1473\u001b[0m ):\n\u001b[1;32m-> 1474\u001b[0m     \u001b[38;5;28;01mreturn\u001b[39;00m fit_method(estimator, \u001b[38;5;241m*\u001b[39margs, \u001b[38;5;241m*\u001b[39m\u001b[38;5;241m*\u001b[39mkwargs)\n",
      "File \u001b[1;32m~\\anaconda3\\Lib\\site-packages\\sklearn\\naive_bayes.py:263\u001b[0m, in \u001b[0;36mGaussianNB.fit\u001b[1;34m(self, X, y, sample_weight)\u001b[0m\n\u001b[0;32m    240\u001b[0m \u001b[38;5;250m\u001b[39m\u001b[38;5;124;03m\"\"\"Fit Gaussian Naive Bayes according to X, y.\u001b[39;00m\n\u001b[0;32m    241\u001b[0m \n\u001b[0;32m    242\u001b[0m \u001b[38;5;124;03mParameters\u001b[39;00m\n\u001b[1;32m   (...)\u001b[0m\n\u001b[0;32m    260\u001b[0m \u001b[38;5;124;03m    Returns the instance itself.\u001b[39;00m\n\u001b[0;32m    261\u001b[0m \u001b[38;5;124;03m\"\"\"\u001b[39;00m\n\u001b[0;32m    262\u001b[0m y \u001b[38;5;241m=\u001b[39m \u001b[38;5;28mself\u001b[39m\u001b[38;5;241m.\u001b[39m_validate_data(y\u001b[38;5;241m=\u001b[39my)\n\u001b[1;32m--> 263\u001b[0m \u001b[38;5;28;01mreturn\u001b[39;00m \u001b[38;5;28mself\u001b[39m\u001b[38;5;241m.\u001b[39m_partial_fit(\n\u001b[0;32m    264\u001b[0m     X, y, np\u001b[38;5;241m.\u001b[39munique(y), _refit\u001b[38;5;241m=\u001b[39m\u001b[38;5;28;01mTrue\u001b[39;00m, sample_weight\u001b[38;5;241m=\u001b[39msample_weight\n\u001b[0;32m    265\u001b[0m )\n",
      "File \u001b[1;32m~\\anaconda3\\Lib\\site-packages\\sklearn\\naive_bayes.py:423\u001b[0m, in \u001b[0;36mGaussianNB._partial_fit\u001b[1;34m(self, X, y, classes, _refit, sample_weight)\u001b[0m\n\u001b[0;32m    420\u001b[0m     \u001b[38;5;28mself\u001b[39m\u001b[38;5;241m.\u001b[39mclasses_ \u001b[38;5;241m=\u001b[39m \u001b[38;5;28;01mNone\u001b[39;00m\n\u001b[0;32m    422\u001b[0m first_call \u001b[38;5;241m=\u001b[39m _check_partial_fit_first_call(\u001b[38;5;28mself\u001b[39m, classes)\n\u001b[1;32m--> 423\u001b[0m X, y \u001b[38;5;241m=\u001b[39m \u001b[38;5;28mself\u001b[39m\u001b[38;5;241m.\u001b[39m_validate_data(X, y, reset\u001b[38;5;241m=\u001b[39mfirst_call)\n\u001b[0;32m    424\u001b[0m \u001b[38;5;28;01mif\u001b[39;00m sample_weight \u001b[38;5;129;01mis\u001b[39;00m \u001b[38;5;129;01mnot\u001b[39;00m \u001b[38;5;28;01mNone\u001b[39;00m:\n\u001b[0;32m    425\u001b[0m     sample_weight \u001b[38;5;241m=\u001b[39m _check_sample_weight(sample_weight, X)\n",
      "File \u001b[1;32m~\\anaconda3\\Lib\\site-packages\\sklearn\\base.py:650\u001b[0m, in \u001b[0;36mBaseEstimator._validate_data\u001b[1;34m(self, X, y, reset, validate_separately, cast_to_ndarray, **check_params)\u001b[0m\n\u001b[0;32m    648\u001b[0m         y \u001b[38;5;241m=\u001b[39m check_array(y, input_name\u001b[38;5;241m=\u001b[39m\u001b[38;5;124m\"\u001b[39m\u001b[38;5;124my\u001b[39m\u001b[38;5;124m\"\u001b[39m, \u001b[38;5;241m*\u001b[39m\u001b[38;5;241m*\u001b[39mcheck_y_params)\n\u001b[0;32m    649\u001b[0m     \u001b[38;5;28;01melse\u001b[39;00m:\n\u001b[1;32m--> 650\u001b[0m         X, y \u001b[38;5;241m=\u001b[39m check_X_y(X, y, \u001b[38;5;241m*\u001b[39m\u001b[38;5;241m*\u001b[39mcheck_params)\n\u001b[0;32m    651\u001b[0m     out \u001b[38;5;241m=\u001b[39m X, y\n\u001b[0;32m    653\u001b[0m \u001b[38;5;28;01mif\u001b[39;00m \u001b[38;5;129;01mnot\u001b[39;00m no_val_X \u001b[38;5;129;01mand\u001b[39;00m check_params\u001b[38;5;241m.\u001b[39mget(\u001b[38;5;124m\"\u001b[39m\u001b[38;5;124mensure_2d\u001b[39m\u001b[38;5;124m\"\u001b[39m, \u001b[38;5;28;01mTrue\u001b[39;00m):\n",
      "File \u001b[1;32m~\\anaconda3\\Lib\\site-packages\\sklearn\\utils\\validation.py:1263\u001b[0m, in \u001b[0;36mcheck_X_y\u001b[1;34m(X, y, accept_sparse, accept_large_sparse, dtype, order, copy, force_all_finite, ensure_2d, allow_nd, multi_output, ensure_min_samples, ensure_min_features, y_numeric, estimator)\u001b[0m\n\u001b[0;32m   1258\u001b[0m         estimator_name \u001b[38;5;241m=\u001b[39m _check_estimator_name(estimator)\n\u001b[0;32m   1259\u001b[0m     \u001b[38;5;28;01mraise\u001b[39;00m \u001b[38;5;167;01mValueError\u001b[39;00m(\n\u001b[0;32m   1260\u001b[0m         \u001b[38;5;124mf\u001b[39m\u001b[38;5;124m\"\u001b[39m\u001b[38;5;132;01m{\u001b[39;00mestimator_name\u001b[38;5;132;01m}\u001b[39;00m\u001b[38;5;124m requires y to be passed, but the target y is None\u001b[39m\u001b[38;5;124m\"\u001b[39m\n\u001b[0;32m   1261\u001b[0m     )\n\u001b[1;32m-> 1263\u001b[0m X \u001b[38;5;241m=\u001b[39m check_array(\n\u001b[0;32m   1264\u001b[0m     X,\n\u001b[0;32m   1265\u001b[0m     accept_sparse\u001b[38;5;241m=\u001b[39maccept_sparse,\n\u001b[0;32m   1266\u001b[0m     accept_large_sparse\u001b[38;5;241m=\u001b[39maccept_large_sparse,\n\u001b[0;32m   1267\u001b[0m     dtype\u001b[38;5;241m=\u001b[39mdtype,\n\u001b[0;32m   1268\u001b[0m     order\u001b[38;5;241m=\u001b[39morder,\n\u001b[0;32m   1269\u001b[0m     copy\u001b[38;5;241m=\u001b[39mcopy,\n\u001b[0;32m   1270\u001b[0m     force_all_finite\u001b[38;5;241m=\u001b[39mforce_all_finite,\n\u001b[0;32m   1271\u001b[0m     ensure_2d\u001b[38;5;241m=\u001b[39mensure_2d,\n\u001b[0;32m   1272\u001b[0m     allow_nd\u001b[38;5;241m=\u001b[39mallow_nd,\n\u001b[0;32m   1273\u001b[0m     ensure_min_samples\u001b[38;5;241m=\u001b[39mensure_min_samples,\n\u001b[0;32m   1274\u001b[0m     ensure_min_features\u001b[38;5;241m=\u001b[39mensure_min_features,\n\u001b[0;32m   1275\u001b[0m     estimator\u001b[38;5;241m=\u001b[39mestimator,\n\u001b[0;32m   1276\u001b[0m     input_name\u001b[38;5;241m=\u001b[39m\u001b[38;5;124m\"\u001b[39m\u001b[38;5;124mX\u001b[39m\u001b[38;5;124m\"\u001b[39m,\n\u001b[0;32m   1277\u001b[0m )\n\u001b[0;32m   1279\u001b[0m y \u001b[38;5;241m=\u001b[39m _check_y(y, multi_output\u001b[38;5;241m=\u001b[39mmulti_output, y_numeric\u001b[38;5;241m=\u001b[39my_numeric, estimator\u001b[38;5;241m=\u001b[39mestimator)\n\u001b[0;32m   1281\u001b[0m check_consistent_length(X, y)\n",
      "File \u001b[1;32m~\\anaconda3\\Lib\\site-packages\\sklearn\\utils\\validation.py:997\u001b[0m, in \u001b[0;36mcheck_array\u001b[1;34m(array, accept_sparse, accept_large_sparse, dtype, order, copy, force_all_finite, ensure_2d, allow_nd, ensure_min_samples, ensure_min_features, estimator, input_name)\u001b[0m\n\u001b[0;32m    995\u001b[0m         array \u001b[38;5;241m=\u001b[39m xp\u001b[38;5;241m.\u001b[39mastype(array, dtype, copy\u001b[38;5;241m=\u001b[39m\u001b[38;5;28;01mFalse\u001b[39;00m)\n\u001b[0;32m    996\u001b[0m     \u001b[38;5;28;01melse\u001b[39;00m:\n\u001b[1;32m--> 997\u001b[0m         array \u001b[38;5;241m=\u001b[39m _asarray_with_order(array, order\u001b[38;5;241m=\u001b[39morder, dtype\u001b[38;5;241m=\u001b[39mdtype, xp\u001b[38;5;241m=\u001b[39mxp)\n\u001b[0;32m    998\u001b[0m \u001b[38;5;28;01mexcept\u001b[39;00m ComplexWarning \u001b[38;5;28;01mas\u001b[39;00m complex_warning:\n\u001b[0;32m    999\u001b[0m     \u001b[38;5;28;01mraise\u001b[39;00m \u001b[38;5;167;01mValueError\u001b[39;00m(\n\u001b[0;32m   1000\u001b[0m         \u001b[38;5;124m\"\u001b[39m\u001b[38;5;124mComplex data not supported\u001b[39m\u001b[38;5;130;01m\\n\u001b[39;00m\u001b[38;5;132;01m{}\u001b[39;00m\u001b[38;5;130;01m\\n\u001b[39;00m\u001b[38;5;124m\"\u001b[39m\u001b[38;5;241m.\u001b[39mformat(array)\n\u001b[0;32m   1001\u001b[0m     ) \u001b[38;5;28;01mfrom\u001b[39;00m \u001b[38;5;21;01mcomplex_warning\u001b[39;00m\n",
      "File \u001b[1;32m~\\anaconda3\\Lib\\site-packages\\sklearn\\utils\\_array_api.py:521\u001b[0m, in \u001b[0;36m_asarray_with_order\u001b[1;34m(array, dtype, order, copy, xp)\u001b[0m\n\u001b[0;32m    519\u001b[0m     array \u001b[38;5;241m=\u001b[39m numpy\u001b[38;5;241m.\u001b[39marray(array, order\u001b[38;5;241m=\u001b[39morder, dtype\u001b[38;5;241m=\u001b[39mdtype)\n\u001b[0;32m    520\u001b[0m \u001b[38;5;28;01melse\u001b[39;00m:\n\u001b[1;32m--> 521\u001b[0m     array \u001b[38;5;241m=\u001b[39m numpy\u001b[38;5;241m.\u001b[39masarray(array, order\u001b[38;5;241m=\u001b[39morder, dtype\u001b[38;5;241m=\u001b[39mdtype)\n\u001b[0;32m    523\u001b[0m \u001b[38;5;66;03m# At this point array is a NumPy ndarray. We convert it to an array\u001b[39;00m\n\u001b[0;32m    524\u001b[0m \u001b[38;5;66;03m# container that is consistent with the input's namespace.\u001b[39;00m\n\u001b[0;32m    525\u001b[0m \u001b[38;5;28;01mreturn\u001b[39;00m xp\u001b[38;5;241m.\u001b[39masarray(array)\n",
      "\u001b[1;31mValueError\u001b[0m: setting an array element with a sequence. The requested array has an inhomogeneous shape after 1 dimensions. The detected shape was (3708,) + inhomogeneous part."
     ]
    }
   ],
   "source": [
    "model = GaussianNB()\n",
    "model.fit(x, y)"
   ]
  },
  {
   "cell_type": "code",
   "execution_count": null,
   "id": "d805470f-b4af-4db7-81b8-c6874e81b68c",
   "metadata": {},
   "outputs": [],
   "source": []
  },
  {
   "cell_type": "code",
   "execution_count": null,
   "id": "b1c1f1b0-1ca0-4020-b8dc-f6c8fd47849d",
   "metadata": {},
   "outputs": [],
   "source": []
  },
  {
   "cell_type": "code",
   "execution_count": null,
   "id": "5bcfe284-809d-4653-9dac-e14c1e98d761",
   "metadata": {},
   "outputs": [],
   "source": []
  }
 ],
 "metadata": {
  "kernelspec": {
   "display_name": "Python 3 (ipykernel)",
   "language": "python",
   "name": "python3"
  },
  "language_info": {
   "codemirror_mode": {
    "name": "ipython",
    "version": 3
   },
   "file_extension": ".py",
   "mimetype": "text/x-python",
   "name": "python",
   "nbconvert_exporter": "python",
   "pygments_lexer": "ipython3",
   "version": "3.12.4"
  }
 },
 "nbformat": 4,
 "nbformat_minor": 5
}
